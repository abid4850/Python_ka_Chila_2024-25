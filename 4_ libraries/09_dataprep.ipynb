{
 "cells": [
  {
   "cell_type": "markdown",
   "metadata": {},
   "source": [
    "# EDA using library by Dataprep"
   ]
  },
  {
   "cell_type": "code",
   "execution_count": 1,
   "metadata": {},
   "outputs": [
    {
     "data": {
      "application/vnd.jupyter.widget-view+json": {
       "model_id": "491cf7c45452455f99174ff8fa2b4c6a",
       "version_major": 2,
       "version_minor": 0
      },
      "text/plain": [
       "  0%|          | 0/1423 [00:00<?, ?it/s]"
      ]
     },
     "metadata": {},
     "output_type": "display_data"
    },
    {
     "name": "stderr",
     "output_type": "stream",
     "text": [
      "c:\\Users\\Hasnain\\miniconda3\\envs\\dataprep\\lib\\site-packages\\dask\\core.py:127: RuntimeWarning: invalid value encountered in divide\n",
      "  return func(*(_execute_task(a, cache) for a in args))\n",
      "c:\\Users\\Hasnain\\miniconda3\\envs\\dataprep\\lib\\site-packages\\dask\\core.py:127: RuntimeWarning: invalid value encountered in divide\n",
      "  return func(*(_execute_task(a, cache) for a in args))\n",
      "c:\\Users\\Hasnain\\miniconda3\\envs\\dataprep\\lib\\site-packages\\dataprep\\eda\\distribution\\render.py:274: FutureWarning: The frame.append method is deprecated and will be removed from pandas in a future version. Use pandas.concat instead.\n",
      "  df = df.append(pd.DataFrame({col: [nrows - npresent]}, index=[\"Others\"]))\n",
      "c:\\Users\\Hasnain\\miniconda3\\envs\\dataprep\\lib\\site-packages\\dataprep\\eda\\distribution\\render.py:274: FutureWarning: The frame.append method is deprecated and will be removed from pandas in a future version. Use pandas.concat instead.\n",
      "  df = df.append(pd.DataFrame({col: [nrows - npresent]}, index=[\"Others\"]))\n",
      "c:\\Users\\Hasnain\\miniconda3\\envs\\dataprep\\lib\\site-packages\\dataprep\\eda\\distribution\\render.py:274: FutureWarning: The frame.append method is deprecated and will be removed from pandas in a future version. Use pandas.concat instead.\n",
      "  df = df.append(pd.DataFrame({col: [nrows - npresent]}, index=[\"Others\"]))\n",
      "c:\\Users\\Hasnain\\miniconda3\\envs\\dataprep\\lib\\site-packages\\dataprep\\eda\\distribution\\render.py:274: FutureWarning: The frame.append method is deprecated and will be removed from pandas in a future version. Use pandas.concat instead.\n",
      "  df = df.append(pd.DataFrame({col: [nrows - npresent]}, index=[\"Others\"]))\n"
     ]
    }
   ],
   "source": [
    "from dataprep.datasets import load_dataset\n",
    "from dataprep.eda import create_report\n",
    "df = load_dataset('titanic')\n",
    "create_report(df).show_browser()"
   ]
  },
  {
   "cell_type": "code",
   "execution_count": 10,
   "metadata": {},
   "outputs": [],
   "source": [
    "import pandas as pd\n",
    "df = pd.read_excel('./dataframe/titanic.xlsx')"
   ]
  },
  {
   "cell_type": "code",
   "execution_count": null,
   "metadata": {},
   "outputs": [],
   "source": []
  }
 ],
 "metadata": {
  "kernelspec": {
   "display_name": "data_analysis",
   "language": "python",
   "name": "python3"
  },
  "language_info": {
   "codemirror_mode": {
    "name": "ipython",
    "version": 3
   },
   "file_extension": ".py",
   "mimetype": "text/x-python",
   "name": "python",
   "nbconvert_exporter": "python",
   "pygments_lexer": "ipython3",
   "version": "3.13.0"
  }
 },
 "nbformat": 4,
 "nbformat_minor": 2
}
