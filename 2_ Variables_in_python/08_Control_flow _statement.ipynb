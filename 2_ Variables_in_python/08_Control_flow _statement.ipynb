{
 "cells": [
  {
   "cell_type": "markdown",
   "metadata": {},
   "source": [
    "# Control flow statement"
   ]
  },
  {
   "cell_type": "code",
   "execution_count": null,
   "metadata": {},
   "outputs": [],
   "source": []
  },
  {
   "cell_type": "markdown",
   "metadata": {},
   "source": [
    " if, else, elif"
   ]
  },
  {
   "cell_type": "code",
   "execution_count": 2,
   "metadata": {},
   "outputs": [
    {
     "name": "stdout",
     "output_type": "stream",
     "text": [
      "You are the small\n"
     ]
    }
   ],
   "source": [
    "age = 17\n",
    "if age >= 18 :\n",
    "    print('You are elighible to vote')\n",
    "else :\n",
    "    print('You are the small')"
   ]
  },
  {
   "cell_type": "code",
   "execution_count": 9,
   "metadata": {},
   "outputs": [
    {
     "name": "stdout",
     "output_type": "stream",
     "text": [
      "You are still a toddler\n"
     ]
    }
   ],
   "source": [
    "age = 4\n",
    "if age >= 18:\n",
    "    print('You are eligible to vote')\n",
    "elif age <= 5 :\n",
    "    print('You are still a toddler')\n",
    "elif age >= 6 and age <= 10 :\n",
    "    print('You should enrol in a school')\n",
    "else :\n",
    "    print('Abi chotte ho')"
   ]
  },
  {
   "cell_type": "code",
   "execution_count": 5,
   "metadata": {},
   "outputs": [
    {
     "name": "stdout",
     "output_type": "stream",
     "text": [
      "This is no fare\n"
     ]
    }
   ],
   "source": [
    "age = 2\n",
    "if age >= 18 :\n",
    "    print('you are voting')\n",
    "elif age >= 5 :\n",
    "    print('you are very small')\n",
    "else :\n",
    "    print('This is no fare')"
   ]
  },
  {
   "cell_type": "code",
   "execution_count": 12,
   "metadata": {},
   "outputs": [
    {
     "name": "stdout",
     "output_type": "stream",
     "text": [
      "It is a hot day\n"
     ]
    }
   ],
   "source": [
    "temp = 32\n",
    "\n",
    "if temp >= 30 :\n",
    "    print('It is a hot day')\n",
    "elif temp <= 10 :\n",
    "    print('It is a cold day')\n",
    "else:\n",
    "    print('It`s neither hot or cold')"
   ]
  },
  {
   "cell_type": "code",
   "execution_count": 16,
   "metadata": {},
   "outputs": [
    {
     "name": "stdout",
     "output_type": "stream",
     "text": [
      "let`s prepare some kebab\n"
     ]
    }
   ],
   "source": [
    "occassion =  'Eid-ul-fiter' \n",
    "\n",
    "if occassion == 'Eid-ul-fiter' :\n",
    "    print('let`s prepare some kebab')\n",
    "elif occassion =='Eid-ul-Adha' :\n",
    "    print('Let prepare some sheer khurama')\n",
    "else :\n",
    "    print('It a normal day')"
   ]
  },
  {
   "cell_type": "markdown",
   "metadata": {},
   "source": [
    "# Nested if statement"
   ]
  },
  {
   "cell_type": "code",
   "execution_count": 22,
   "metadata": {},
   "outputs": [
    {
     "name": "stdout",
     "output_type": "stream",
     "text": [
      "You are not eligible to drive a car, You need to license\n"
     ]
    }
   ],
   "source": [
    "age = 19\n",
    "license = False\n",
    "\n",
    "if age >= 18 :\n",
    "    if license :\n",
    "        print('You are eligible to drive a car')\n",
    "    else :\n",
    "        print('You are not eligible to drive a car, You need to license')\n",
    "else : \n",
    "   print('You are not eligible to drive.')        "
   ]
  },
  {
   "cell_type": "markdown",
   "metadata": {},
   "source": [
    "# For loop and while loop"
   ]
  },
  {
   "cell_type": "code",
   "execution_count": 25,
   "metadata": {},
   "outputs": [
    {
     "name": "stdout",
     "output_type": "stream",
     "text": [
      "Briyani\n",
      "Vegitible\n",
      "kofta\n",
      "piza\n"
     ]
    }
   ],
   "source": [
    "dishes = ('Briyani', 'Vegitible', 'kofta', 'piza')\n",
    "\n",
    "for i in dishes :\n",
    "    print(i)"
   ]
  },
  {
   "cell_type": "code",
   "execution_count": 26,
   "metadata": {},
   "outputs": [
    {
     "name": "stdout",
     "output_type": "stream",
     "text": [
      "Nazar\n",
      "Shaban\n",
      "Imran\n",
      "Boota\n",
      "Hayat\n",
      "Akmal\n",
      "Mazhar\n"
     ]
    }
   ],
   "source": [
    "friend = [ 'Nazar', 'Shaban', 'Imran', 'Boota', 'Hayat', 'Akmal', 'Mazhar']\n",
    "\n",
    "for k in friend :\n",
    "    print(k)"
   ]
  },
  {
   "cell_type": "code",
   "execution_count": 27,
   "metadata": {},
   "outputs": [
    {
     "name": "stdout",
     "output_type": "stream",
     "text": [
      "More cup of tea\n",
      "More cup of tea\n",
      "More cup of tea\n",
      "More cup of tea\n",
      "More cup of tea\n",
      "More cup of tea\n",
      "More cup of tea\n",
      "More cup of tea\n",
      "More cup of tea\n",
      "More cup of tea\n",
      "No more cup of tea\n"
     ]
    }
   ],
   "source": [
    "cup_of_chai = 0\n",
    "\n",
    "while cup_of_chai < 10 :\n",
    "    print('More cup of tea')\n",
    "    cup_of_chai += 1 \n",
    "    \n",
    "print('No more cup of tea')"
   ]
  },
  {
   "cell_type": "code",
   "execution_count": 29,
   "metadata": {},
   "outputs": [
    {
     "name": "stdout",
     "output_type": "stream",
     "text": [
      "Some more , i enjoy it\n",
      "Some more , i enjoy it\n",
      "Some more , i enjoy it\n",
      "Some more , i enjoy it\n",
      "Some more , i enjoy it\n",
      "Ab bas ho gi ha\n"
     ]
    }
   ],
   "source": [
    "Mlie_boti = 0 \n",
    "\n",
    "while Mlie_boti < 5 :\n",
    "    print('Some more , i enjoy it')\n",
    "    Mlie_boti += 1 \n",
    "    \n",
    "print('Ab bas ho gi ha')"
   ]
  }
 ],
 "metadata": {
  "kernelspec": {
   "display_name": "Python 3",
   "language": "python",
   "name": "python3"
  },
  "language_info": {
   "codemirror_mode": {
    "name": "ipython",
    "version": 3
   },
   "file_extension": ".py",
   "mimetype": "text/x-python",
   "name": "python",
   "nbconvert_exporter": "python",
   "pygments_lexer": "ipython3",
   "version": "3.13.0"
  }
 },
 "nbformat": 4,
 "nbformat_minor": 2
}
