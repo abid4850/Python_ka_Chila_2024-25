{
 "cells": [
  {
   "cell_type": "markdown",
   "metadata": {},
   "source": [
    "# Input User\n"
   ]
  },
  {
   "cell_type": "code",
   "execution_count": 1,
   "metadata": {},
   "outputs": [],
   "source": [
    "age = input('My age is : ')"
   ]
  },
  {
   "cell_type": "code",
   "execution_count": 11,
   "metadata": {},
   "outputs": [],
   "source": [
    "education = (input('My last degree is : '))"
   ]
  },
  {
   "cell_type": "code",
   "execution_count": 3,
   "metadata": {},
   "outputs": [
    {
     "name": "stdout",
     "output_type": "stream",
     "text": [
      "G sir ! My salary is : 70 thousand.\n"
     ]
    }
   ],
   "source": [
    "salary = input('My salary is :')\n",
    "print('G sir ! My salary is : '+salary+ ' thousand.')"
   ]
  },
  {
   "cell_type": "code",
   "execution_count": 2,
   "metadata": {},
   "outputs": [
    {
     "name": "stdout",
     "output_type": "stream",
     "text": [
      "Hello ! Guys today our company profit is : 50 millions.\n"
     ]
    }
   ],
   "source": [
    "profit = input('Today our company profit is : ')\n",
    "print('Hello ! Guys today our company profit is : '+profit+ ' millions.')"
   ]
  },
  {
   "cell_type": "code",
   "execution_count": 2,
   "metadata": {},
   "outputs": [],
   "source": [
    "learning = input('My aim to learning by using youtub channel is : ')"
   ]
  },
  {
   "cell_type": "code",
   "execution_count": 1,
   "metadata": {},
   "outputs": [
    {
     "name": "stdout",
     "output_type": "stream",
     "text": [
      "learning_01\n"
     ]
    }
   ],
   "source": [
    "learning_01 = input('My aim to learning by using youtub channel is : ')\n",
    "print('learning_01')"
   ]
  },
  {
   "cell_type": "code",
   "execution_count": 7,
   "metadata": {},
   "outputs": [
    {
     "name": "stdout",
     "output_type": "stream",
     "text": [
      "Warning! invalid age, write in digit\n"
     ]
    }
   ],
   "source": [
    "age = input('writ your age ? ')\n",
    "\n",
    "if age.isdigit ():\n",
    "    age = int(age)\n",
    "    print('My age is : ',age)\n",
    "    \n",
    "else :\n",
    "    print('Warning! invalid age, write in digit')"
   ]
  },
  {
   "cell_type": "code",
   "execution_count": 8,
   "metadata": {},
   "outputs": [
    {
     "name": "stdout",
     "output_type": "stream",
     "text": [
      "My age is :  20\n"
     ]
    }
   ],
   "source": [
    "age = input('writ your age ? ')\n",
    "\n",
    "if age.isdigit ():\n",
    "    age = int(age)\n",
    "    print('My age is : ',age)\n",
    "    \n",
    "else :\n",
    "    print('Warning! invalid age, write in digit')"
   ]
  },
  {
   "cell_type": "code",
   "execution_count": 10,
   "metadata": {},
   "outputs": [
    {
     "ename": "AttributeError",
     "evalue": "'str' object has no attribute 'reserved'",
     "output_type": "error",
     "traceback": [
      "\u001b[1;31m---------------------------------------------------------------------------\u001b[0m",
      "\u001b[1;31mAttributeError\u001b[0m                            Traceback (most recent call last)",
      "Cell \u001b[1;32mIn[10], line 3\u001b[0m\n\u001b[0;32m      1\u001b[0m age \u001b[38;5;241m=\u001b[39m \u001b[38;5;28minput\u001b[39m(\u001b[38;5;124m'\u001b[39m\u001b[38;5;124mwrit your age ? \u001b[39m\u001b[38;5;124m'\u001b[39m)\n\u001b[1;32m----> 3\u001b[0m \u001b[38;5;28;01mif\u001b[39;00m \u001b[43mage\u001b[49m\u001b[38;5;241;43m.\u001b[39;49m\u001b[43mreserved\u001b[49m():\n\u001b[0;32m      4\u001b[0m     age \u001b[38;5;241m=\u001b[39m \u001b[38;5;28mint\u001b[39m(age)\n\u001b[0;32m      5\u001b[0m     \u001b[38;5;28mprint\u001b[39m(\u001b[38;5;124m'\u001b[39m\u001b[38;5;124mMy age is : \u001b[39m\u001b[38;5;124m'\u001b[39m,age)\n",
      "\u001b[1;31mAttributeError\u001b[0m: 'str' object has no attribute 'reserved'"
     ]
    }
   ],
   "source": [
    "age = input('writ your age ? ')\n",
    "\n",
    "if age.reserved():\n",
    "    age = int(age)\n",
    "    print('My age is : ',age)\n",
    "    \n",
    "else :\n",
    "    print('Warning! invalid age, write in digit')"
   ]
  },
  {
   "cell_type": "code",
   "execution_count": null,
   "metadata": {},
   "outputs": [],
   "source": []
  }
 ],
 "metadata": {
  "kernelspec": {
   "display_name": "Python 3",
   "language": "python",
   "name": "python3"
  },
  "language_info": {
   "codemirror_mode": {
    "name": "ipython",
    "version": 3
   },
   "file_extension": ".py",
   "mimetype": "text/x-python",
   "name": "python",
   "nbconvert_exporter": "python",
   "pygments_lexer": "ipython3",
   "version": "3.13.0"
  }
 },
 "nbformat": 4,
 "nbformat_minor": 2
}
