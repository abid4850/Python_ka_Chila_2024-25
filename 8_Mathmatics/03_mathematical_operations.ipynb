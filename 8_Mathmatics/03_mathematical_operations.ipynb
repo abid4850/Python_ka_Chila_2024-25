{
 "cells": [
  {
   "cell_type": "markdown",
   "metadata": {},
   "source": [
    "# Mathematical Operations"
   ]
  },
  {
   "cell_type": "code",
   "execution_count": 15,
   "metadata": {},
   "outputs": [],
   "source": [
    "# Import Libraries \n",
    "import numpy as np"
   ]
  },
  {
   "cell_type": "code",
   "execution_count": 16,
   "metadata": {},
   "outputs": [
    {
     "name": "stdout",
     "output_type": "stream",
     "text": [
      "Array 1: [1 2 3 4] \n",
      "Array 2: [5 6 7 8]\n",
      "-------------------------\n"
     ]
    }
   ],
   "source": [
    "# element_wise operations\n",
    "arr1 =np.array([1, 2, 3, 4])\n",
    "arr2 = np.array([5, 6, 7, 8])\n",
    "print(f'Array 1: {arr1} \\nArray 2: {arr2}')\n",
    "print('-------------------------')"
   ]
  },
  {
   "cell_type": "code",
   "execution_count": 17,
   "metadata": {},
   "outputs": [
    {
     "name": "stdout",
     "output_type": "stream",
     "text": [
      "Squared Array : [25 36 49 64]\n"
     ]
    }
   ],
   "source": [
    "# Squared array\n",
    "arr2 = arr2**2\n",
    "print(f'Squared Array : {arr2}')"
   ]
  },
  {
   "cell_type": "code",
   "execution_count": 18,
   "metadata": {},
   "outputs": [
    {
     "name": "stdout",
     "output_type": "stream",
     "text": [
      "Array1 : [1 2 3]\n",
      "Array2: [4 5 6]\n",
      "---------------------\n",
      "Sum of arrays: [5 7 9]\n",
      "-------------------------\n",
      "Difference of array: [-3 -3 -3]\n",
      "----------------------------------\n",
      "Product of array : [ 4 10 18]\n",
      "----------------------------------\n",
      "quotient of arrays: [0.25 0.4  0.5 ]\n",
      "---------------------------------------------------------\n",
      "Raise the power: [1 4 9]\n"
     ]
    }
   ],
   "source": [
    "# Element_wise operation\n",
    "arr1 = np.array([1, 2, 3])\n",
    "arr2 = np.array([4, 5, 6])\n",
    "print(f'Array1 : {arr1}')\n",
    "print(f'Array2: {arr2}')\n",
    "print('---------------------')\n",
    "sum_arr = arr1+arr2\n",
    "print(f'Sum of arrays: {sum_arr}')\n",
    "print('-------------------------')\n",
    "diff_arr = arr1-arr2\n",
    "print(f'Difference of array: {diff_arr}')\n",
    "print('----------------------------------')\n",
    "prod_arr = arr1*arr2\n",
    "print(f'Product of array : {prod_arr}')\n",
    "print('----------------------------------')\n",
    "quot_arr = arr1 / arr2\n",
    "print(f\"quotient of arrays: {quot_arr}\")\n",
    "print(\"---------------------------------------------------------\")\n",
    "pow_arr = arr1 ** 2\n",
    "print(f\"Raise the power: {pow_arr}\")"
   ]
  },
  {
   "cell_type": "code",
   "execution_count": 19,
   "metadata": {},
   "outputs": [
    {
     "name": "stdout",
     "output_type": "stream",
     "text": [
      "Array : [1 2 3 4 5]\n",
      "---------------------\n",
      "Square of array : [ 1  4  9 16 25]\n"
     ]
    }
   ],
   "source": [
    "# Squaring of an array\n",
    "arr = np.array([1, 2, 3, 4, 5])\n",
    "print(f'Array : {arr}')\n",
    "print('---------------------')\n",
    "sqr_arr = arr**2\n",
    "print(f'Square of array : {sqr_arr}')"
   ]
  },
  {
   "cell_type": "code",
   "execution_count": 20,
   "metadata": {},
   "outputs": [
    {
     "name": "stdout",
     "output_type": "stream",
     "text": [
      "Array: [1 2 3 4 5]\n",
      "___________________\n",
      "Exponential of array: [  2.71828183   7.3890561   20.08553692  54.59815003 148.4131591 ]\n"
     ]
    }
   ],
   "source": [
    "# Exponential of an array\n",
    "arr = np.array([1, 2, 3, 4, 5])\n",
    "print(f'Array: {arr}')\n",
    "print('___________________')\n",
    "exp_arr = np.exp(arr)\n",
    "print(f'Exponential of array: {exp_arr}')"
   ]
  },
  {
   "cell_type": "code",
   "execution_count": 21,
   "metadata": {},
   "outputs": [
    {
     "name": "stdout",
     "output_type": "stream",
     "text": [
      "Array: [ 200  250  500 1000]\n",
      "----------------------------------------------------\n",
      "Log of Array: [5.29831737 5.52146092 6.2146081  6.90775528]\n",
      "___________________________\n",
      "Log of Array: [2.30103    2.39794001 2.69897    3.        ]\n"
     ]
    }
   ],
   "source": [
    "# Log of an array\n",
    "arr = np.array([200, 250, 500, 1000])\n",
    "print(f'Array: {arr}')\n",
    "print('----------------------------------------------------')\n",
    "log_arr = np.log(arr)\n",
    "print(f'Log of Array: {log_arr}')\n",
    "print('___________________________')\n",
    "log10_arr = np.log10(arr)\n",
    "print(f'Log of Array: {log10_arr}')"
   ]
  },
  {
   "cell_type": "code",
   "execution_count": 22,
   "metadata": {},
   "outputs": [
    {
     "name": "stdout",
     "output_type": "stream",
     "text": [
      "pi: 3.141592653589793\n",
      "e value: 2.718281828459045\n"
     ]
    }
   ],
   "source": [
    "# Mathematical constants\n",
    "print(f'pi: {np.pi}')\n",
    "print(f'e value: {np.e}')"
   ]
  },
  {
   "cell_type": "code",
   "execution_count": 23,
   "metadata": {},
   "outputs": [
    {
     "name": "stdout",
     "output_type": "stream",
     "text": [
      "pi value : 3.141592653589793\n"
     ]
    }
   ],
   "source": [
    "# pi value\n",
    "pi = np.pi\n",
    "print(f'pi value : {pi}')"
   ]
  },
  {
   "cell_type": "code",
   "execution_count": 25,
   "metadata": {},
   "outputs": [
    {
     "name": "stdout",
     "output_type": "stream",
     "text": [
      "random number: 0.2812461173906573\n"
     ]
    }
   ],
   "source": [
    "# Radom Number\n",
    "rand_num = np.random.rand()\n",
    "print(f'random number: {rand_num}')"
   ]
  },
  {
   "cell_type": "code",
   "execution_count": null,
   "metadata": {},
   "outputs": [
    {
     "name": "stdout",
     "output_type": "stream",
     "text": [
      "Array : [ 6 14 37 85 54 90 49  7 26 56]\n",
      "---------------------\n",
      "Square of array : [  36  196 1369 7225 2916 8100 2401   49  676 3136]\n",
      "---------------------\n"
     ]
    }
   ],
   "source": [
    "# Random numbers\n",
    "arr = np.random.randint(1, 100, 10)\n",
    "print(f'Array : {arr}')\n",
    "print('---------------------')\n",
    "sqr_arr = arr**2\n",
    "print(f'Square of array : {sqr_arr}')\n",
    "print('---------------------')\n",
    "exp_arr = np.exp(arr)"
   ]
  },
  {
   "cell_type": "code",
   "execution_count": 28,
   "metadata": {},
   "outputs": [
    {
     "name": "stdout",
     "output_type": "stream",
     "text": [
      "array: [0.         1.57079633 3.14159265]\n",
      "-------------------\n",
      "Sin of the array: [0.0000000e+00 1.0000000e+00 1.2246468e-16]\n",
      "_____________________\n",
      "Cos of the array : [ 1.000000e+00  6.123234e-17 -1.000000e+00]\n",
      "-----------------------\n",
      "Tan of array: [ 0.00000000e+00  1.63312394e+16 -1.22464680e-16]\n",
      "-----------------------\n"
     ]
    }
   ],
   "source": [
    "# Trignometric functions \n",
    "arr = np.array([0, np.pi/2, np.pi])\n",
    "print(f'array: {arr}')\n",
    "print('-------------------')  \n",
    "sin_arr = np.sin(arr)\n",
    "print(f'Sin of the array: {sin_arr}')\n",
    "print('_____________________')\n",
    "cos_arr = np.cos(arr)\n",
    "print(f'Cos of the array : {cos_arr}')\n",
    "print('-----------------------')  \n",
    "tan_arr = np.tan(arr)\n",
    "print(f'Tan of array: {tan_arr}')\n",
    "print('-----------------------')"
   ]
  },
  {
   "cell_type": "code",
   "execution_count": null,
   "metadata": {},
   "outputs": [],
   "source": []
  }
 ],
 "metadata": {
  "kernelspec": {
   "display_name": "data_analysis",
   "language": "python",
   "name": "python3"
  },
  "language_info": {
   "codemirror_mode": {
    "name": "ipython",
    "version": 3
   },
   "file_extension": ".py",
   "mimetype": "text/x-python",
   "name": "python",
   "nbconvert_exporter": "python",
   "pygments_lexer": "ipython3",
   "version": "3.13.0"
  }
 },
 "nbformat": 4,
 "nbformat_minor": 2
}
