{
 "cells": [
  {
   "cell_type": "markdown",
   "metadata": {},
   "source": [
    "# 2- Joining, Spliting and Modifying Arrays"
   ]
  },
  {
   "cell_type": "code",
   "execution_count": 2,
   "metadata": {},
   "outputs": [],
   "source": [
    "import numpy as np"
   ]
  },
  {
   "cell_type": "code",
   "execution_count": 4,
   "metadata": {},
   "outputs": [
    {
     "name": "stdout",
     "output_type": "stream",
     "text": [
      "Array1: [1 2 3]\n",
      "Array2: [4 5 6]\n",
      "------------------\n",
      "Concatenated array: \n",
      " [1 2 3 4 5 6]\n"
     ]
    }
   ],
   "source": [
    "# concatenate arrays\n",
    "arr1 = np.array([1, 2, 3])\n",
    "arr2 = np.array([4, 5, 6])\n",
    "\n",
    "print(f'Array1: {arr1}')\n",
    "print(f'Array2: {arr2}')\n",
    "print('------------------')\n",
    "\n",
    "concatenate_arr = np.concatenate((arr1, arr2))\n",
    "print(f'Concatenated array: \\n {concatenate_arr}')"
   ]
  },
  {
   "cell_type": "markdown",
   "metadata": {},
   "source": [
    ". concatenate() function is used to join arrays along an existing axis which means joining arrays along the existing axis.\n",
    "### Stacking vs. Concatenation\n",
    ". Stacking is a general concept that refers to joining two or more arrays along a new axis.                         \n",
    ".  Concatenation is a specific case of stacking that refers to joining arrays along an existing axis.                                     \n",
    ". Stacking can be done along different axes, while concatenation is limited to joining arrays along the existing axes."
   ]
  },
  {
   "cell_type": "code",
   "execution_count": 7,
   "metadata": {},
   "outputs": [
    {
     "name": "stdout",
     "output_type": "stream",
     "text": [
      "Array1: [1 2 3] \n",
      "Array2: [4 5 6]\n",
      "----------------------------------------------------\n",
      "Stacked array: \n",
      " [[1 2 3]\n",
      " [4 5 6]]\n"
     ]
    }
   ],
   "source": [
    "# Stack arrays \n",
    "arr1 = np.array([1, 2, 3])\n",
    "arr2 = np.array([4, 5, 6])\n",
    "print(f'Array1: {arr1} \\nArray2: {arr2}')\n",
    "print('----------------------------------------------------')\n",
    "stack_arr = np.stack((arr1, arr2))\n",
    "print(f'Stacked array: \\n {stack_arr}')"
   ]
  },
  {
   "cell_type": "code",
   "execution_count": 9,
   "metadata": {},
   "outputs": [
    {
     "name": "stdout",
     "output_type": "stream",
     "text": [
      "Array1: [1 2 3] \n",
      "Array2: [4 5 6]\n",
      "----------------------------------------------------\n",
      "Vertically Stacked array: \n",
      " [[1 2 3]\n",
      " [4 5 6]]\n"
     ]
    }
   ],
   "source": [
    "#  Vertically Stack arrays \n",
    "arr1 = np.array([1, 2, 3])\n",
    "arr2 = np.array([4, 5, 6])\n",
    "print(f'Array1: {arr1} \\nArray2: {arr2}')\n",
    "print('----------------------------------------------------')\n",
    "vstack_arr = np.vstack((arr1, arr2))\n",
    "print(f'Vertically Stacked array: \\n {vstack_arr}')"
   ]
  },
  {
   "cell_type": "code",
   "execution_count": 10,
   "metadata": {},
   "outputs": [
    {
     "name": "stdout",
     "output_type": "stream",
     "text": [
      "Array1: [1 2 3] \n",
      "Array2: [4 5 6]\n",
      "----------------------------------------------------\n",
      "Horizontally Stacked array: \n",
      " [1 2 3 4 5 6]\n"
     ]
    }
   ],
   "source": [
    "# Horizontal stack arrays\n",
    "arr1 = np.array([1, 2, 3])\n",
    "arr2 = np.array([4, 5, 6])\n",
    "print(f'Array1: {arr1} \\nArray2: {arr2}')\n",
    "print('----------------------------------------------------')\n",
    "hstack_arr = np.hstack((arr1, arr2))\n",
    "print(f'Horizontally Stacked array: \\n {hstack_arr}')"
   ]
  },
  {
   "cell_type": "code",
   "execution_count": 14,
   "metadata": {},
   "outputs": [
    {
     "name": "stdout",
     "output_type": "stream",
     "text": [
      "Array befor: [1 2 3 4 5 6]\n",
      "----------------------------------------------------\n",
      "Split arrays: \n",
      " [array([1, 2]), array([3, 4]), array([5, 6])]\n"
     ]
    }
   ],
   "source": [
    "# Split and array into sub_array\n",
    "arr = np.array([1, 2, 3, 4, 5, 6,])\n",
    "print(f'Array befor: {arr}')\n",
    "print('----------------------------------------------------')\n",
    "split_arr = np.split(arr , 3) # split the array into 3 sub_arrays\n",
    "print(f'Split arrays: \\n {split_arr}')"
   ]
  },
  {
   "cell_type": "code",
   "execution_count": 16,
   "metadata": {},
   "outputs": [
    {
     "name": "stdout",
     "output_type": "stream",
     "text": [
      "Array befor: [1 2 3 4 5 6]\n",
      "----------------------------------------------------\n",
      "Deleted array: \n",
      " [1 2 4 5 6]\n"
     ]
    }
   ],
   "source": [
    "# Delete element from array\n",
    "arr = np.array([1, 2, 3, 4, 5, 6,])\n",
    "print(f'Array befor: {arr}')\n",
    "print('----------------------------------------------------')\n",
    "delete_arr = np.delete(arr, 2) # delete the element from array(3rd_element)\n",
    "print(f'Deleted array: \\n {delete_arr}')"
   ]
  },
  {
   "cell_type": "code",
   "execution_count": 18,
   "metadata": {},
   "outputs": [
    {
     "name": "stdout",
     "output_type": "stream",
     "text": [
      "Array: [1 2 3 4 5 6]\n",
      "----------------------------------------------------\n",
      "Elementat index 0: 1\n",
      "Elementat index 2: 3\n",
      "Elementat index -1: 6\n"
     ]
    }
   ],
   "source": [
    "# Indexing of arrays\n",
    "arr = np.array([1, 2, 3, 4, 5, 6,])\n",
    "print(f'Array: {arr}')\n",
    "print('----------------------------------------------------')\n",
    "print(f'Elementat index 0: {arr[0]}')\n",
    "print(f'Elementat index 2: {arr[2]}')\n",
    "print(f'Elementat index -1: {arr[-1]}')"
   ]
  },
  {
   "cell_type": "code",
   "execution_count": 21,
   "metadata": {},
   "outputs": [
    {
     "name": "stdout",
     "output_type": "stream",
     "text": [
      "array:\n",
      "[[1 2 3]\n",
      " [4 5 6]]\n",
      "---------------------------------------------------------\n",
      "element at row 1, column 2: 6\n",
      "element at row 0, column 2: 3\n"
     ]
    }
   ],
   "source": [
    "# indexing of 2D arrays\n",
    "arr = np.array([[1, 2, 3], [4, 5, 6]])\n",
    "print(f\"array:\\n{arr}\")\n",
    "print(\"---------------------------------------------------------\")\n",
    "print(f\"element at row 1, column 2: {arr[1, 2]}\")\n",
    "print(f\"element at row 0, column 2: {arr[0, 2]}\")"
   ]
  },
  {
   "cell_type": "code",
   "execution_count": 23,
   "metadata": {},
   "outputs": [
    {
     "name": "stdout",
     "output_type": "stream",
     "text": [
      "Array: [1 2 3 4 5 6]\n",
      "----------------------------------------------------\n",
      "Slicing array: \n",
      " [2 3 4]\n",
      "Slicing array: \n",
      " [2 3 4 5 6]\n",
      "Slicing array: \n",
      " [1 2 3 4 5]\n",
      "Slicing array: \n",
      " [1 2 3 4]\n"
     ]
    }
   ],
   "source": [
    "# Slicing of arrays\n",
    "arr = np.array([1, 2, 3, 4, 5, 6,])\n",
    "print(f'Array: {arr}')\n",
    "print('----------------------------------------------------')\n",
    "print(f'Slicing array: \\n {arr[1:4]}')\n",
    "print(f'Slicing array: \\n {arr[1:]}')\n",
    "print(f'Slicing array: \\n {arr[:5]}')\n",
    "print(f'Slicing array: \\n {arr[:-2]}')"
   ]
  },
  {
   "cell_type": "code",
   "execution_count": 20,
   "metadata": {},
   "outputs": [
    {
     "name": "stdout",
     "output_type": "stream",
     "text": [
      "Array: \n",
      " [[1 2 3]\n",
      " [4 5 6]\n",
      " [7 8 9]]\n",
      "----------------------------------------------------\n",
      "Slicing array: \n",
      " [[5 6]]\n",
      "Slicing array: \n",
      " [[4 5 6]]\n",
      "Slicing array: \n",
      " [[2 3]\n",
      " [5 6]\n",
      " [8 9]]\n",
      "Slicing array: \n",
      " [[1 2 3]\n",
      " [4 5 6]\n",
      " [7 8 9]]\n"
     ]
    }
   ],
   "source": [
    "# slicing array in 2D array\n",
    "arr = np.array([[1, 2, 3], [4, 5, 6], [7, 8, 9]])\n",
    "print(f'Array: \\n {arr}')\n",
    "print('----------------------------------------------------')\n",
    "print(f'Slicing array: \\n {arr[1:2, 1:3]}')\n",
    "print(f'Slicing array: \\n {arr[1:2, :]}')\n",
    "print(f'Slicing array: \\n {arr[:, 1:3]}')\n",
    "print(f'Slicing array: \\n {arr[:, :]}')"
   ]
  },
  {
   "cell_type": "code",
   "execution_count": 24,
   "metadata": {},
   "outputs": [
    {
     "name": "stdout",
     "output_type": "stream",
     "text": [
      "Array befor: [1 2 3 4 5 6]\n",
      "----------------------------------------------------\n",
      "Inserted array: \n",
      " [ 1  2 10  3  4  5  6]\n"
     ]
    }
   ],
   "source": [
    "# Insert elements into an array\n",
    "arr = np.array([1, 2, 3, 4, 5, 6,])\n",
    "print(f'Array befor: {arr}')\n",
    "print('----------------------------------------------------')\n",
    "insert_arr = np.insert(arr, 2, 10) # insert the element into array(3rd_element)\n",
    "print(f'Inserted array: \\n {insert_arr}')"
   ]
  },
  {
   "cell_type": "code",
   "execution_count": 25,
   "metadata": {},
   "outputs": [
    {
     "name": "stdout",
     "output_type": "stream",
     "text": [
      "Array befor: [1 2 3 4 5 6]\n",
      "----------------------------------------------------\n",
      "Appended array: \n",
      " [ 1  2  3  4  5  6 10]\n"
     ]
    }
   ],
   "source": [
    "# Append elements into an array\n",
    "arr = np.array([1, 2, 3, 4, 5, 6,])\n",
    "print(f'Array befor: {arr}')\n",
    "print('----------------------------------------------------')\n",
    "append_arr = np.append(arr, 10) # append the element into array\n",
    "print(f'Appended array: \\n {append_arr}')"
   ]
  },
  {
   "cell_type": "code",
   "execution_count": 27,
   "metadata": {},
   "outputs": [
    {
     "name": "stdout",
     "output_type": "stream",
     "text": [
      "Array befor: [1 2 3 4 5 6]\n",
      "----------------------------------------------------\n",
      "Updated array: \n",
      " [ 1  2  3  4 10  5  6]\n"
     ]
    }
   ],
   "source": [
    "# Update elements in an array\n",
    "arr = np.array([1, 2, 3, 4, 5, 6,])\n",
    "print(f'Array befor: {arr}')\n",
    "print('----------------------------------------------------')\n",
    "update_arr = np.insert(arr, 4, 10) # insert the element into array(3rd_element)\n",
    "print(f'Updated array: \\n {update_arr}')"
   ]
  },
  {
   "cell_type": "code",
   "execution_count": null,
   "metadata": {},
   "outputs": [],
   "source": []
  }
 ],
 "metadata": {
  "kernelspec": {
   "display_name": "data_analysis",
   "language": "python",
   "name": "python3"
  },
  "language_info": {
   "codemirror_mode": {
    "name": "ipython",
    "version": 3
   },
   "file_extension": ".py",
   "mimetype": "text/x-python",
   "name": "python",
   "nbconvert_exporter": "python",
   "pygments_lexer": "ipython3",
   "version": "3.13.0"
  }
 },
 "nbformat": 4,
 "nbformat_minor": 2
}
