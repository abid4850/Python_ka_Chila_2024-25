{
 "cells": [
  {
   "cell_type": "markdown",
   "metadata": {},
   "source": [
    "# Array Manipulation on data"
   ]
  },
  {
   "cell_type": "code",
   "execution_count": 26,
   "metadata": {},
   "outputs": [],
   "source": [
    "# Import Libraries\n",
    "\n",
    "import numpy as np"
   ]
  },
  {
   "cell_type": "code",
   "execution_count": 27,
   "metadata": {},
   "outputs": [
    {
     "name": "stdout",
     "output_type": "stream",
     "text": [
      "[1 2 3 4 5]\n"
     ]
    }
   ],
   "source": [
    "# create an array\n",
    "a = np.array([1,2,3,4,5])\n",
    "print(a)"
   ]
  },
  {
   "cell_type": "code",
   "execution_count": 28,
   "metadata": {},
   "outputs": [
    {
     "name": "stdout",
     "output_type": "stream",
     "text": [
      "[[1 2 3]\n",
      " [4 5 6]]\n"
     ]
    }
   ],
   "source": [
    "# create 2D array\n",
    "b=np.array([[1,2,3], [4,5,6]])\n",
    "print(b)"
   ]
  },
  {
   "cell_type": "code",
   "execution_count": 29,
   "metadata": {},
   "outputs": [
    {
     "name": "stdout",
     "output_type": "stream",
     "text": [
      "[[1 2 3]\n",
      " [4 5 6]\n",
      " [7 8 9]]\n"
     ]
    }
   ],
   "source": [
    "b1 = np.array([[1,2,3],[4,5,6],[7,8,9]])\n",
    "print(b1)"
   ]
  },
  {
   "cell_type": "code",
   "execution_count": 30,
   "metadata": {},
   "outputs": [
    {
     "name": "stdout",
     "output_type": "stream",
     "text": [
      "[[0. 0. 0.]\n",
      " [0. 0. 0.]]\n"
     ]
    }
   ],
   "source": [
    "# create an array with zeros\n",
    "c = np.zeros((2, 3))\n",
    "print(c)"
   ]
  },
  {
   "cell_type": "code",
   "execution_count": 31,
   "metadata": {},
   "outputs": [
    {
     "name": "stdout",
     "output_type": "stream",
     "text": [
      "[[1. 1. 1.]\n",
      " [1. 1. 1.]]\n"
     ]
    }
   ],
   "source": [
    "# create array with ones\n",
    "d = np.ones((2, 3)) \n",
    "print(d)"
   ]
  },
  {
   "cell_type": "code",
   "execution_count": 32,
   "metadata": {},
   "outputs": [
    {
     "name": "stdout",
     "output_type": "stream",
     "text": [
      "[[1.23659685e-311 2.81617418e-322 0.00000000e+000 0.00000000e+000\n",
      "  0.00000000e+000 1.58817677e-052]\n",
      " [4.46535002e-090 1.16345882e+165 2.34121652e-057 4.12060206e-033\n",
      "  6.48224659e+170 4.93432906e+257]]\n"
     ]
    }
   ],
   "source": [
    "# create array empty\n",
    "f = np.empty((2, 6))\n",
    "print(f)"
   ]
  },
  {
   "cell_type": "code",
   "execution_count": 33,
   "metadata": {},
   "outputs": [
    {
     "name": "stdout",
     "output_type": "stream",
     "text": [
      "[0 1 2 3 4 5 6 7 8 9]\n"
     ]
    }
   ],
   "source": [
    "# create array with range\n",
    "g = np.arange(10)\n",
    "print(g)"
   ]
  },
  {
   "cell_type": "code",
   "execution_count": 34,
   "metadata": {},
   "outputs": [
    {
     "name": "stdout",
     "output_type": "stream",
     "text": [
      "[1 2 3 4 5 6 7 8 9]\n"
     ]
    }
   ],
   "source": [
    "g1 = np.arange(1, 10)\n",
    "print(g1)"
   ]
  },
  {
   "cell_type": "code",
   "execution_count": 35,
   "metadata": {},
   "outputs": [
    {
     "name": "stdout",
     "output_type": "stream",
     "text": [
      "[1 3 5 7 9]\n",
      "int64\n"
     ]
    }
   ],
   "source": [
    "g2 = np.arange(1, 10, 2)\n",
    "print(g2)\n",
    "print(g2.dtype)"
   ]
  },
  {
   "cell_type": "code",
   "execution_count": 36,
   "metadata": {},
   "outputs": [
    {
     "name": "stdout",
     "output_type": "stream",
     "text": [
      "[2. 4. 6. 8.]\n",
      "float64\n"
     ]
    }
   ],
   "source": [
    "# create array with a arange and a step as float\n",
    "g3 = np.arange(2, 10, 2, dtype=float)\n",
    "print(g3)\n",
    "print(g3.dtype)"
   ]
  },
  {
   "cell_type": "code",
   "execution_count": 37,
   "metadata": {},
   "outputs": [
    {
     "name": "stdout",
     "output_type": "stream",
     "text": [
      "[1.  1.5 2.  2.5 3.  3.5 4.  4.5 5.  5.5 6.  6.5 7.  7.5 8.  8.5 9.  9.5]\n"
     ]
    }
   ],
   "source": [
    "# with a range and step as float\n",
    "h = np.arange(1, 10, 0.5)\n",
    "print(h)"
   ]
  },
  {
   "cell_type": "code",
   "execution_count": 38,
   "metadata": {},
   "outputs": [
    {
     "name": "stdout",
     "output_type": "stream",
     "text": [
      "float64\n"
     ]
    }
   ],
   "source": [
    "# datatype for the array\n",
    "print(h.dtype)"
   ]
  },
  {
   "cell_type": "code",
   "execution_count": 39,
   "metadata": {},
   "outputs": [
    {
     "name": "stdout",
     "output_type": "stream",
     "text": [
      "[ 0.  3.  6.  9. 12.]\n"
     ]
    }
   ],
   "source": [
    "# with a range and a number of elements evenly spaced\n",
    "i = np.linspace(0, 12, 5) # 5 elements between 0 and 10\n",
    "print(i)"
   ]
  },
  {
   "cell_type": "code",
   "execution_count": 40,
   "metadata": {},
   "outputs": [
    {
     "name": "stdout",
     "output_type": "stream",
     "text": [
      "[[ 0.]\n",
      " [ 3.]\n",
      " [ 6.]\n",
      " [ 9.]\n",
      " [12.]]\n",
      "(5, 1)\n"
     ]
    }
   ],
   "source": [
    "# reshape an array\n",
    "j = i.reshape(5,1)\n",
    "print(j)\n",
    "print(j.shape)"
   ]
  },
  {
   "cell_type": "code",
   "execution_count": 44,
   "metadata": {},
   "outputs": [
    {
     "name": "stdout",
     "output_type": "stream",
     "text": [
      "array before: [1 2 3 4 5 6 7 8]\n"
     ]
    }
   ],
   "source": [
    "# reshape an array \n",
    "arr = np.array([1, 2, 3, 4, 5,6,7,8])\n",
    "print(f'array before: {arr}')"
   ]
  },
  {
   "cell_type": "code",
   "execution_count": 45,
   "metadata": {},
   "outputs": [
    {
     "name": "stdout",
     "output_type": "stream",
     "text": [
      "array after reshaping:\n",
      "[[1 2 3 4]\n",
      " [5 6 7 8]]\n"
     ]
    }
   ],
   "source": [
    "reshaped_arr = arr.reshape((2, 4))\n",
    "print(f\"array after reshaping:\\n{reshaped_arr}\")"
   ]
  },
  {
   "cell_type": "code",
   "execution_count": 47,
   "metadata": {},
   "outputs": [
    {
     "name": "stdout",
     "output_type": "stream",
     "text": [
      "array before: \n",
      "[[1 2 3]\n",
      " [4 5 6]]\n"
     ]
    }
   ],
   "source": [
    "# transpose an array\n",
    "arr = np.array([[1,2, 3],[4, 5, 6]])\n",
    "print(f'array before: \\n{arr}')"
   ]
  },
  {
   "cell_type": "code",
   "execution_count": 48,
   "metadata": {},
   "outputs": [
    {
     "name": "stdout",
     "output_type": "stream",
     "text": [
      "array before: \n",
      " [[1 2 3]\n",
      " [4 5 6]]\n",
      "-----------------------\n",
      "array after transposing: \n",
      " [[1 4]\n",
      " [2 5]\n",
      " [3 6]]\n"
     ]
    }
   ],
   "source": [
    "# transpose an array\n",
    "arr = np.array([[1,2, 3],[4, 5, 6]])\n",
    "print(f'array before: \\n {arr}')\n",
    "print('-----------------------')\n",
    "transpose_arr = arr.transpose()\n",
    "print(f'array after transposing: \\n {transpose_arr}')"
   ]
  },
  {
   "cell_type": "code",
   "execution_count": 49,
   "metadata": {},
   "outputs": [
    {
     "name": "stdout",
     "output_type": "stream",
     "text": [
      "array before: \n",
      " [[1 2 3]\n",
      " [4 5 6]]\n",
      "-----------------------\n",
      "array after flattening: \n",
      " [1 2 3 4 5 6]\n",
      "array after flattening shape: \n",
      " (6,)\n"
     ]
    }
   ],
   "source": [
    "# flatten a multi-dimensional array  \n",
    "arr = np.array([[1,2, 3],[4, 5, 6]])\n",
    "print(f'array before: \\n {arr}')\n",
    "print('-----------------------')\n",
    "flatten_arr = arr.flatten()\n",
    "print(f'array after flattening: \\n {flatten_arr}')\n",
    "print(f'array after flattening shape: \\n {flatten_arr.shape}')"
   ]
  },
  {
   "cell_type": "code",
   "execution_count": 50,
   "metadata": {},
   "outputs": [
    {
     "name": "stdout",
     "output_type": "stream",
     "text": [
      "[1 2 3 4 5]\n",
      "-----------\n",
      "repeated array: \n",
      " [1 1 1 2 2 2 3 3 3 4 4 4 5 5 5]\n"
     ]
    }
   ],
   "source": [
    "# repeat elements of an array\n",
    "arr = np.array([1, 2, 3, 4, 5])\n",
    "print(arr)\n",
    "print('-----------')\n",
    "repeat_arr = np.repeat(arr, 3) # repeat each element 3 times\n",
    "print(f'repeated array: \\n {repeat_arr}')"
   ]
  },
  {
   "cell_type": "code",
   "execution_count": 51,
   "metadata": {},
   "outputs": [
    {
     "name": "stdout",
     "output_type": "stream",
     "text": [
      "array before: [1 2 3]\n",
      "---------------------------------------------------------\n",
      "tiled array:\n",
      "[1 2 3 1 2 3 1 2 3]\n"
     ]
    }
   ],
   "source": [
    "# construct an array by repeating it\n",
    "arr = np.array([1, 2, 3])\n",
    "print(f\"array before: {arr}\")\n",
    "print(\"---------------------------------------------------------\")\n",
    "tiled_arr = np.tile(arr, 3) # repeat the array 3 times\n",
    "print(f\"tiled array:\\n{tiled_arr}\")"
   ]
  },
  {
   "cell_type": "code",
   "execution_count": null,
   "metadata": {},
   "outputs": [],
   "source": []
  }
 ],
 "metadata": {
  "kernelspec": {
   "display_name": "data_analysis",
   "language": "python",
   "name": "python3"
  },
  "language_info": {
   "codemirror_mode": {
    "name": "ipython",
    "version": 3
   },
   "file_extension": ".py",
   "mimetype": "text/x-python",
   "name": "python",
   "nbconvert_exporter": "python",
   "pygments_lexer": "ipython3",
   "version": "3.13.0"
  }
 },
 "nbformat": 4,
 "nbformat_minor": 2
}
