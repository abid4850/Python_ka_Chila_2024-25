{
 "cells": [
  {
   "cell_type": "markdown",
   "metadata": {},
   "source": [
    "# Magic Commands in Python and Jupyter Notbook"
   ]
  },
  {
   "cell_type": "code",
   "execution_count": 2,
   "metadata": {},
   "outputs": [
    {
     "name": "stderr",
     "output_type": "stream",
     "text": [
      "UsageError: Can't use statement directly after '%%time'!\n"
     ]
    }
   ],
   "source": [
    "%%time    # or %time\n",
    "import pandas as pd\n",
    "import numpy as np\n",
    "import matplotlib.pyplot as plt\n",
    "import seaborn as sns"
   ]
  },
  {
   "cell_type": "code",
   "execution_count": null,
   "metadata": {},
   "outputs": [
    {
     "data": {
      "text/plain": [
       "'d:\\\\Data_Science data\\\\Python_ka_Chila\\\\11_magic_command'"
      ]
     },
     "execution_count": 3,
     "metadata": {},
     "output_type": "execute_result"
    }
   ],
   "source": [
    "%pwd  # check current directory"
   ]
  },
  {
   "cell_type": "code",
   "execution_count": null,
   "metadata": {},
   "outputs": [
    {
     "name": "stdout",
     "output_type": "stream",
     "text": [
      "[WinError 2] The system cannot find the file specified: '../ # change directory'\n",
      "d:\\Data_Science data\\Python_ka_Chila\\11_magic_command\n"
     ]
    }
   ],
   "source": [
    "%cd ../    # change directory"
   ]
  },
  {
   "cell_type": "code",
   "execution_count": null,
   "metadata": {},
   "outputs": [
    {
     "name": "stdout",
     "output_type": "stream",
     "text": [
      " Volume in drive D has no label.\n",
      " Volume Serial Number is F221-F3C4\n",
      "\n",
      " Directory of d:\\Data_Science data\\Python_ka_Chila\\11_magic_command\n",
      "\n",
      "21/11/2024  08:16    <DIR>          .\n",
      "21/11/2024  08:14    <DIR>          ..\n",
      "21/11/2024  08:16                 0 01_magic_commands.ipynb\n",
      "               1 File(s)              0 bytes\n",
      "               2 Dir(s)  54,746,525,696 bytes free\n"
     ]
    }
   ],
   "source": [
    "%ls"
   ]
  },
  {
   "cell_type": "code",
   "execution_count": null,
   "metadata": {},
   "outputs": [
    {
     "name": "stdout",
     "output_type": "stream",
     "text": [
      "np\t pd\t plt\t sns\t \n"
     ]
    }
   ],
   "source": [
    "%who"
   ]
  },
  {
   "cell_type": "code",
   "execution_count": null,
   "metadata": {},
   "outputs": [
    {
     "data": {
      "text/html": [
       "<div>\n",
       "<style scoped>\n",
       "    .dataframe tbody tr th:only-of-type {\n",
       "        vertical-align: middle;\n",
       "    }\n",
       "\n",
       "    .dataframe tbody tr th {\n",
       "        vertical-align: top;\n",
       "    }\n",
       "\n",
       "    .dataframe thead th {\n",
       "        text-align: right;\n",
       "    }\n",
       "</style>\n",
       "<table border=\"1\" class=\"dataframe\">\n",
       "  <thead>\n",
       "    <tr style=\"text-align: right;\">\n",
       "      <th></th>\n",
       "      <th>0</th>\n",
       "      <th>1</th>\n",
       "      <th>2</th>\n",
       "      <th>3</th>\n",
       "      <th>4</th>\n",
       "    </tr>\n",
       "  </thead>\n",
       "  <tbody>\n",
       "    <tr>\n",
       "      <th>0</th>\n",
       "      <td>1.472660</td>\n",
       "      <td>2.638605</td>\n",
       "      <td>-0.227856</td>\n",
       "      <td>0.746082</td>\n",
       "      <td>-0.415747</td>\n",
       "    </tr>\n",
       "    <tr>\n",
       "      <th>1</th>\n",
       "      <td>0.383718</td>\n",
       "      <td>-1.181251</td>\n",
       "      <td>-1.006314</td>\n",
       "      <td>-0.740277</td>\n",
       "      <td>-0.922381</td>\n",
       "    </tr>\n",
       "    <tr>\n",
       "      <th>2</th>\n",
       "      <td>-0.859716</td>\n",
       "      <td>-0.102060</td>\n",
       "      <td>0.404059</td>\n",
       "      <td>-0.420740</td>\n",
       "      <td>-0.080837</td>\n",
       "    </tr>\n",
       "    <tr>\n",
       "      <th>3</th>\n",
       "      <td>-2.219848</td>\n",
       "      <td>0.729529</td>\n",
       "      <td>0.049416</td>\n",
       "      <td>0.445580</td>\n",
       "      <td>-0.379790</td>\n",
       "    </tr>\n",
       "    <tr>\n",
       "      <th>4</th>\n",
       "      <td>0.453045</td>\n",
       "      <td>-0.488587</td>\n",
       "      <td>0.525802</td>\n",
       "      <td>-1.310535</td>\n",
       "      <td>-1.083910</td>\n",
       "    </tr>\n",
       "  </tbody>\n",
       "</table>\n",
       "</div>"
      ],
      "text/plain": [
       "          0         1         2         3         4\n",
       "0  1.472660  2.638605 -0.227856  0.746082 -0.415747\n",
       "1  0.383718 -1.181251 -1.006314 -0.740277 -0.922381\n",
       "2 -0.859716 -0.102060  0.404059 -0.420740 -0.080837\n",
       "3 -2.219848  0.729529  0.049416  0.445580 -0.379790\n",
       "4  0.453045 -0.488587  0.525802 -1.310535 -1.083910"
      ]
     },
     "execution_count": 14,
     "metadata": {},
     "output_type": "execute_result"
    }
   ],
   "source": [
    "import pandas as pd\n",
    "x = pd.DataFrame(np.random.randn(100, 5))\n",
    "x.head()"
   ]
  },
  {
   "cell_type": "code",
   "execution_count": null,
   "metadata": {},
   "outputs": [
    {
     "name": "stdout",
     "output_type": "stream",
     "text": [
      "Variable   Type         Data/Info\n",
      "---------------------------------\n",
      "np         module       <module 'numpy' from 'c:\\<...>ges\\\\numpy\\\\__init__.py'>\n",
      "pd         module       <module 'pandas' from 'c:<...>es\\\\pandas\\\\__init__.py'>\n",
      "plt        module       <module 'matplotlib.pyplo<...>\\\\matplotlib\\\\pyplot.py'>\n",
      "sns        module       <module 'seaborn' from 'c<...>s\\\\seaborn\\\\__init__.py'>\n",
      "x          DataFrame               0         1   <...>n\\n[100 rows x 5 columns]\n"
     ]
    }
   ],
   "source": [
    "%whos"
   ]
  },
  {
   "cell_type": "code",
   "execution_count": null,
   "metadata": {},
   "outputs": [
    {
     "name": "stdout",
     "output_type": "stream",
     "text": [
      "CPU times: total: 0 ns\n",
      "Wall time: 58.6 ms\n"
     ]
    },
    {
     "data": {
      "text/html": [
       "<div>\n",
       "<style scoped>\n",
       "    .dataframe tbody tr th:only-of-type {\n",
       "        vertical-align: middle;\n",
       "    }\n",
       "\n",
       "    .dataframe tbody tr th {\n",
       "        vertical-align: top;\n",
       "    }\n",
       "\n",
       "    .dataframe thead th {\n",
       "        text-align: right;\n",
       "    }\n",
       "</style>\n",
       "<table border=\"1\" class=\"dataframe\">\n",
       "  <thead>\n",
       "    <tr style=\"text-align: right;\">\n",
       "      <th></th>\n",
       "      <th>0</th>\n",
       "      <th>1</th>\n",
       "      <th>2</th>\n",
       "      <th>3</th>\n",
       "      <th>4</th>\n",
       "    </tr>\n",
       "  </thead>\n",
       "  <tbody>\n",
       "    <tr>\n",
       "      <th>count</th>\n",
       "      <td>100.000000</td>\n",
       "      <td>100.000000</td>\n",
       "      <td>100.000000</td>\n",
       "      <td>100.000000</td>\n",
       "      <td>100.000000</td>\n",
       "    </tr>\n",
       "    <tr>\n",
       "      <th>mean</th>\n",
       "      <td>0.012895</td>\n",
       "      <td>0.055802</td>\n",
       "      <td>0.189851</td>\n",
       "      <td>-0.131367</td>\n",
       "      <td>-0.310395</td>\n",
       "    </tr>\n",
       "    <tr>\n",
       "      <th>std</th>\n",
       "      <td>1.025274</td>\n",
       "      <td>1.057918</td>\n",
       "      <td>0.946755</td>\n",
       "      <td>0.923984</td>\n",
       "      <td>0.882064</td>\n",
       "    </tr>\n",
       "    <tr>\n",
       "      <th>min</th>\n",
       "      <td>-2.901182</td>\n",
       "      <td>-2.663802</td>\n",
       "      <td>-2.464529</td>\n",
       "      <td>-2.915464</td>\n",
       "      <td>-2.516675</td>\n",
       "    </tr>\n",
       "    <tr>\n",
       "      <th>25%</th>\n",
       "      <td>-0.607281</td>\n",
       "      <td>-0.767285</td>\n",
       "      <td>-0.487637</td>\n",
       "      <td>-0.710801</td>\n",
       "      <td>-0.916636</td>\n",
       "    </tr>\n",
       "    <tr>\n",
       "      <th>50%</th>\n",
       "      <td>-0.033884</td>\n",
       "      <td>0.036971</td>\n",
       "      <td>0.340573</td>\n",
       "      <td>-0.209634</td>\n",
       "      <td>-0.323628</td>\n",
       "    </tr>\n",
       "    <tr>\n",
       "      <th>75%</th>\n",
       "      <td>0.575352</td>\n",
       "      <td>0.768874</td>\n",
       "      <td>0.810651</td>\n",
       "      <td>0.628704</td>\n",
       "      <td>0.261611</td>\n",
       "    </tr>\n",
       "    <tr>\n",
       "      <th>max</th>\n",
       "      <td>3.118524</td>\n",
       "      <td>2.638605</td>\n",
       "      <td>2.163863</td>\n",
       "      <td>2.115479</td>\n",
       "      <td>1.944704</td>\n",
       "    </tr>\n",
       "  </tbody>\n",
       "</table>\n",
       "</div>"
      ],
      "text/plain": [
       "                0           1           2           3           4\n",
       "count  100.000000  100.000000  100.000000  100.000000  100.000000\n",
       "mean     0.012895    0.055802    0.189851   -0.131367   -0.310395\n",
       "std      1.025274    1.057918    0.946755    0.923984    0.882064\n",
       "min     -2.901182   -2.663802   -2.464529   -2.915464   -2.516675\n",
       "25%     -0.607281   -0.767285   -0.487637   -0.710801   -0.916636\n",
       "50%     -0.033884    0.036971    0.340573   -0.209634   -0.323628\n",
       "75%      0.575352    0.768874    0.810651    0.628704    0.261611\n",
       "max      3.118524    2.638605    2.163863    2.115479    1.944704"
      ]
     },
     "execution_count": 16,
     "metadata": {},
     "output_type": "execute_result"
    }
   ],
   "source": [
    "%time x.describe()"
   ]
  },
  {
   "cell_type": "code",
   "execution_count": null,
   "metadata": {},
   "outputs": [
    {
     "name": "stdout",
     "output_type": "stream",
     "text": [
      "26.7 μs ± 822 ns per loop (mean ± std. dev. of 7 runs, 10,000 loops each)\n"
     ]
    }
   ],
   "source": [
    "%timeit sum(range(1000))"
   ]
  },
  {
   "cell_type": "code",
   "execution_count": null,
   "metadata": {},
   "outputs": [
    {
     "data": {
      "image/png": "[encoded data removed]",
      "text/plain": [
       "<Figure size 640x480 with 1 Axes>"
      ]
     },
     "metadata": {},
     "output_type": "display_data"
    }
   ],
   "source": [
    "%matplotlib inline # to show plot in jupyter notebook\n",
    "import matplotlib.pyplot as plt\n",
    "plt.plot([1, 2, 3, 4],[10, 20, 30, 40])\n",
    "plt.show()"
   ]
  },
  {
   "cell_type": "code",
   "execution_count": null,
   "metadata": {},
   "outputs": [
    {
     "name": "stdout",
     "output_type": "stream",
     "text": [
      "Don't know how to reset  #, please run `%reset?` for details\n",
      "Don't know how to reset  reset, please run `%reset?` for details\n",
      "Don't know how to reset  all, please run `%reset?` for details\n",
      "Don't know how to reset  variables, please run `%reset?` for details\n"
     ]
    }
   ],
   "source": [
    "%reset # reset all variables"
   ]
  },
  {
   "cell_type": "code",
   "execution_count": null,
   "metadata": {},
   "outputs": [
    {
     "name": "stdout",
     "output_type": "stream",
     "text": [
      "Interactive namespace is empty.\n"
     ]
    }
   ],
   "source": [
    "%whos"
   ]
  },
  {
   "cell_type": "code",
   "execution_count": 3,
   "metadata": {},
   "outputs": [
    {
     "name": "stdout",
     "output_type": "stream",
     "text": [
      "%%time    # or %time\n",
      "import pandas as pd\n",
      "import numpy as np\n",
      "import matplotlib.pyplot as plt\n",
      "import seaborn as sns\n",
      "%%time    # or %time\n",
      "import pandas as pd\n",
      "import numpy as np\n",
      "import matplotlib.pyplot as plt\n",
      "import seaborn as sns\n",
      "%history\n"
     ]
    }
   ],
   "source": [
    "%history"
   ]
  },
  {
   "cell_type": "code",
   "execution_count": 4,
   "metadata": {},
   "outputs": [
    {
     "data": {
      "text/plain": [
       "'d:\\\\Data_Science data\\\\Python_ka_Chila\\\\11_magic_command'"
      ]
     },
     "execution_count": 4,
     "metadata": {},
     "output_type": "execute_result"
    }
   ],
   "source": [
    "%pwd"
   ]
  },
  {
   "cell_type": "markdown",
   "metadata": {},
   "source": [
    "%run app.py"
   ]
  },
  {
   "cell_type": "code",
   "execution_count": 7,
   "metadata": {},
   "outputs": [],
   "source": [
    "%%capture my_output \n",
    "print('hello codanies')"
   ]
  },
  {
   "cell_type": "code",
   "execution_count": 10,
   "metadata": {},
   "outputs": [
    {
     "data": {
      "text/html": [
       "<h1>Hello Candians</h1>\n",
       "<p> This is a paragraph</p>\n",
       "<h2>Handing Two</h2>\n"
      ],
      "text/plain": [
       "<IPython.core.display.HTML object>"
      ]
     },
     "metadata": {},
     "output_type": "display_data"
    }
   ],
   "source": [
    "%%html\n",
    "<h1>Hello Candians</h1>\n",
    "<p> This is a paragraph</p>\n",
    "<h2>Handing Two</h2>"
   ]
  },
  {
   "cell_type": "code",
   "execution_count": 11,
   "metadata": {},
   "outputs": [
    {
     "name": "stdout",
     "output_type": "stream",
     "text": [
      "# conda environments:\n",
      "Note: you may need to restart the kernel to use updated packages.\n",
      "\n",
      "#\n",
      "base                     C:\\Users\\Hasnain\\miniconda3\n",
      "data_analysis         *  C:\\Users\\Hasnain\\miniconda3\\envs\\data_analysis\n",
      "dataprep                 C:\\Users\\Hasnain\\miniconda3\\envs\\dataprep\n",
      "dtale                    C:\\Users\\Hasnain\\miniconda3\\envs\\dtale\n",
      "lida                     C:\\Users\\Hasnain\\miniconda3\\envs\\lida\n",
      "pygwalker                C:\\Users\\Hasnain\\miniconda3\\envs\\pygwalker\n",
      "python_basics            C:\\Users\\Hasnain\\miniconda3\\envs\\python_basics\n",
      "skimpy                   C:\\Users\\Hasnain\\miniconda3\\envs\\skimpy\n",
      "sweetviz_2               C:\\Users\\Hasnain\\miniconda3\\envs\\sweetviz_2\n",
      "ydata.profiling          C:\\Users\\Hasnain\\miniconda3\\envs\\ydata.profiling\n",
      "ydataprofiling           C:\\Users\\Hasnain\\miniconda3\\envs\\ydataprofiling\n",
      "data_analysis            c:\\Users\\Hasnain\\miniconda3\\envs\\data_analysis\n",
      "ydataprofiling           c:\\Users\\Hasnain\\miniconda3\\envs\\ydataprofiling\n",
      "\n"
     ]
    }
   ],
   "source": [
    "%conda env list"
   ]
  },
  {
   "cell_type": "code",
   "execution_count": 13,
   "metadata": {},
   "outputs": [
    {
     "ename": "SyntaxError",
     "evalue": "invalid decimal literal (1341881683.py, line 2)",
     "output_type": "error",
     "traceback": [
      "\u001b[1;36m  Cell \u001b[1;32mIn[13], line 2\u001b[1;36m\u001b[0m\n\u001b[1;33m    Link: https://pypi.org/project/magic-command/01_file.ipynb\u001b[0m\n\u001b[1;37m                                                   ^\u001b[0m\n\u001b[1;31mSyntaxError\u001b[0m\u001b[1;31m:\u001b[0m invalid decimal literal\n"
     ]
    }
   ],
   "source": [
    "%Here you can find more commands and their explansions.\n",
    "Link: https://pypi.org/project/magic-command/01_file.ipynb"
   ]
  },
  {
   "cell_type": "code",
   "execution_count": 4,
   "metadata": {},
   "outputs": [
    {
     "ename": "SyntaxError",
     "evalue": "invalid syntax (1921366544.py, line 2)",
     "output_type": "error",
     "traceback": [
      "\u001b[1;36m  Cell \u001b[1;32mIn[4], line 2\u001b[1;36m\u001b[0m\n\u001b[1;33m    <h2 style=\"font-family: 'Poppins';font-weight: bold; color: yellow; background-color:maroon;\">Hello Codanics</h2>\u001b[0m\n\u001b[1;37m    ^\u001b[0m\n\u001b[1;31mSyntaxError\u001b[0m\u001b[1;31m:\u001b[0m invalid syntax\n"
     ]
    }
   ],
   "source": [
    "# This is my notebook and i am writing some code\n",
    "<h2 style=\"font-family: 'Poppins';font-weight: bold; color: yellow; background-color:maroon;\">Hello Codanics</h2>"
   ]
  },
  {
   "cell_type": "code",
   "execution_count": 23,
   "metadata": {},
   "outputs": [
    {
     "ename": "SyntaxError",
     "evalue": "invalid syntax (1418339901.py, line 1)",
     "output_type": "error",
     "traceback": [
      "\u001b[1;36m  Cell \u001b[1;32mIn[23], line 1\u001b[1;36m\u001b[0m\n\u001b[1;33m    <h2 style=\"font-family: 'Poppins'; font-weight: bold; color: yellow; background-color:black;\">Hello Codanics</h2>\u001b[0m\n\u001b[1;37m    ^\u001b[0m\n\u001b[1;31mSyntaxError\u001b[0m\u001b[1;31m:\u001b[0m invalid syntax\n"
     ]
    }
   ],
   "source": [
    "<h2 style=\"font-family: 'Poppins'; font-weight: bold; color: yellow; background-color:black;\">Hello Codanics</h2>"
   ]
  },
  {
   "cell_type": "code",
   "execution_count": null,
   "metadata": {},
   "outputs": [],
   "source": []
  }
 ],
 "metadata": {
  "kernelspec": {
   "display_name": "data_analysis",
   "language": "python",
   "name": "python3"
  },
  "language_info": {
   "codemirror_mode": {
    "name": "ipython",
    "version": 3
   },
   "file_extension": ".py",
   "mimetype": "text/x-python",
   "name": "python",
   "nbconvert_exporter": "python",
   "pygments_lexer": "ipython3",
   "version": "3.13.0"
  }
 },
 "nbformat": 4,
 "nbformat_minor": 2
}
