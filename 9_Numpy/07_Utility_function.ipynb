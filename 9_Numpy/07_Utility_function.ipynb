{
 "cells": [
  {
   "cell_type": "markdown",
   "metadata": {},
   "source": [
    "# Utility Functions"
   ]
  },
  {
   "cell_type": "code",
   "execution_count": 1,
   "metadata": {},
   "outputs": [],
   "source": [
    "# Import Libraries\n",
    "import numpy as np"
   ]
  },
  {
   "cell_type": "code",
   "execution_count": 3,
   "metadata": {},
   "outputs": [
    {
     "name": "stdout",
     "output_type": "stream",
     "text": [
      "Array : [1 2 0 5 4 3]\n",
      "----------------------\n",
      "sorted Array : [0 1 2 3 4 5]\n"
     ]
    }
   ],
   "source": [
    "# sort an array\n",
    "arr = np.array([1, 2, 0, 5, 4, 3])\n",
    "print(f'Array : {arr}')\n",
    "print('----------------------') \n",
    "sorted_arr = np.sort(arr)\n",
    "print(f'sorted Array : {sorted_arr}')"
   ]
  },
  {
   "cell_type": "code",
   "execution_count": 4,
   "metadata": {},
   "outputs": [
    {
     "name": "stdout",
     "output_type": "stream",
     "text": [
      "Array : [[3 2 4]\n",
      " [5 0 1]]\n",
      "----------------------\n",
      "sorted Array : [[2 3 4]\n",
      " [0 1 5]]\n",
      "----------------------\n"
     ]
    }
   ],
   "source": [
    "# sort a 2D array \n",
    "arr = np.array([[3, 2, 4], [5, 0, 1]])\n",
    "print(f'Array : {arr}')\n",
    "print('----------------------') \n",
    "sorted_arr = np.sort(arr)\n",
    "print(f'sorted Array : {sorted_arr}')\n",
    "print('----------------------')"
   ]
  },
  {
   "cell_type": "code",
   "execution_count": 8,
   "metadata": {},
   "outputs": [
    {
     "name": "stdout",
     "output_type": "stream",
     "text": [
      "Array :\n",
      " [[3 2 4]\n",
      " [5 0 1]\n",
      " [6 8 7]]\n",
      "----------------------\n",
      "sorted Array :\n",
      " [[2 3 4]\n",
      " [0 1 5]\n",
      " [6 7 8]]\n",
      "----------------------\n"
     ]
    }
   ],
   "source": [
    "# sort a 2D array by column\n",
    "arr = np.array([[3, 2, 4], [5, 0, 1], [6, 8, 7]])\n",
    "print(f'Array :\\n {arr}')\n",
    "print('----------------------') \n",
    "sorted_arr = np.sort(arr, axis=1)\n",
    "print(f'sorted Array :\\n {sorted_arr}')\n",
    "print('----------------------')"
   ]
  },
  {
   "cell_type": "code",
   "execution_count": 9,
   "metadata": {},
   "outputs": [
    {
     "name": "stdout",
     "output_type": "stream",
     "text": [
      "matrix:\n",
      "[[6 5 4]\n",
      " [3 2 1]\n",
      " [9 8 7]]\n",
      "---------------------------------------------------------\n",
      "sorted matrix by row:\n",
      "[[4 5 6]\n",
      " [1 2 3]\n",
      " [7 8 9]]\n"
     ]
    }
   ],
   "source": [
    "# sort a 2D array by row\n",
    "matrix = np.array([[6, 5, 4], [3, 2, 1], [9, 8, 7]])\n",
    "print(f\"matrix:\\n{matrix}\")\n",
    "print(\"---------------------------------------------------------\")\n",
    "sorted_matrix = np.sort(matrix, axis=1) # sort by row\n",
    "print(f\"sorted matrix by row:\\n{sorted_matrix}\")"
   ]
  },
  {
   "cell_type": "code",
   "execution_count": 10,
   "metadata": {},
   "outputs": [
    {
     "name": "stdout",
     "output_type": "stream",
     "text": [
      "array: [1 2 3 4 5]\n",
      "---------------------------------------------------------\n"
     ]
    }
   ],
   "source": [
    "# save an array to a file\n",
    "arr = np.array([1, 2, 3, 4, 5])\n",
    "print(f\"array: {arr}\")\n",
    "print(\"---------------------------------------------------------\")\n",
    "np.save(\"array.npy\", arr) # save the array to a file"
   ]
  },
  {
   "cell_type": "code",
   "execution_count": 12,
   "metadata": {},
   "outputs": [
    {
     "name": "stdout",
     "output_type": "stream",
     "text": [
      "array: [1 2 3 4 5]\n",
      "---------------------------------------------------------\n",
      "clipped array: [2 2 3 4 4]\n"
     ]
    }
   ],
   "source": [
    "\n",
    "# limit values within a range\n",
    "arr = np.array([1, 2, 3, 4, 5])\n",
    "print(f\"array: {arr}\")\n",
    "print(\"---------------------------------------------------------\")\n",
    "clip_arr = np.clip(arr, 2, 4) # limit values between 2 and 4\n",
    "print(f\"clipped array: {clip_arr}\")"
   ]
  },
  {
   "cell_type": "code",
   "execution_count": null,
   "metadata": {},
   "outputs": [],
   "source": []
  }
 ],
 "metadata": {
  "kernelspec": {
   "display_name": "data_analysis",
   "language": "python",
   "name": "python3"
  },
  "language_info": {
   "codemirror_mode": {
    "name": "ipython",
    "version": 3
   },
   "file_extension": ".py",
   "mimetype": "text/x-python",
   "name": "python",
   "nbconvert_exporter": "python",
   "pygments_lexer": "ipython3",
   "version": "3.13.0"
  }
 },
 "nbformat": 4,
 "nbformat_minor": 2
}
