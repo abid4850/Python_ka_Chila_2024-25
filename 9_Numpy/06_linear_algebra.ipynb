{
 "cells": [
  {
   "cell_type": "markdown",
   "metadata": {},
   "source": [
    "# Linear Algebra"
   ]
  },
  {
   "cell_type": "code",
   "execution_count": 1,
   "metadata": {},
   "outputs": [],
   "source": [
    "# Import libraries\n",
    "import numpy as np"
   ]
  },
  {
   "cell_type": "code",
   "execution_count": 2,
   "metadata": {},
   "outputs": [
    {
     "name": "stdout",
     "output_type": "stream",
     "text": [
      "Array1 : [1 2 3 4]\n",
      "Array 2: [5 6 7 8]\n",
      "------------------------------\n",
      "dot product of array1 and array2 : 70\n"
     ]
    }
   ],
   "source": [
    "# dot product of two matrices \n",
    "arr1 = np.array([1, 2, 3, 4])\n",
    "arr2 = np.array([5, 6, 7, 8])\n",
    "print(f'Array1 : {arr1}\\nArray 2: {arr2}')\n",
    "print('------------------------------')\n",
    "dot_arr = np.dot(arr1, arr2)\n",
    "print(f'dot product of array1 and array2 : {dot_arr}')"
   ]
  },
  {
   "cell_type": "markdown",
   "metadata": {},
   "source": [
    "The dot product of two arrays is calculated using the np.dot() function.\n",
    "The dot product of two arrays is the sum of the products of the corresponding elements of the two arrays. Here is the formula for the dot product of two arrays:\n",
    "\n",
    "Here is an example in mathematical notation:\n",
    "\n",
    "  \n",
    " \n",
    "\n",
    "Here we have two arrays, [1, 2, 3] and [4, 5, 6], and the dot product is 32. We first transform the arrays into vectors and then multiply the corresponding elements and sum the results."
   ]
  },
  {
   "cell_type": "code",
   "execution_count": 4,
   "metadata": {},
   "outputs": [
    {
     "name": "stdout",
     "output_type": "stream",
     "text": [
      "Matrix : \n",
      " [[1 2]\n",
      " [3 4]\n",
      " [5 6]]\n"
     ]
    }
   ],
   "source": [
    "# create a matrix\n",
    "matrix = np.array([[1, 2], [3, 4], [5, 6]])\n",
    "print(f'Matrix : \\n {matrix}')"
   ]
  },
  {
   "cell_type": "code",
   "execution_count": 9,
   "metadata": {},
   "outputs": [
    {
     "name": "stdout",
     "output_type": "stream",
     "text": [
      "Matrix : \n",
      " [[1 2 3]\n",
      " [4 5 6]\n",
      " [7 8 9]]\n"
     ]
    }
   ],
   "source": [
    "# matrix using arange\n",
    "matrix =np.arange(1, 10).reshape(3, 3)\n",
    "print(f'Matrix : \\n {matrix}')"
   ]
  },
  {
   "cell_type": "code",
   "execution_count": 11,
   "metadata": {},
   "outputs": [
    {
     "name": "stdout",
     "output_type": "stream",
     "text": [
      "Matrix 1 : \n",
      " [[1 2]\n",
      " [3 4]]\n",
      "Matrix 2: \n",
      " [[5 6]\n",
      " [7 8]]\n",
      "-----------------------------\n",
      "Matrix multiplication of matrix1 and matrix2 : \n",
      " [[19 22]\n",
      " [43 50]]\n"
     ]
    }
   ],
   "source": [
    "# matix multiplication\n",
    "matrix1 = np.array([[1, 2], [3, 4]])\n",
    "matrix2 = np.array([[5, 6], [7, 8]])\n",
    "print(f'Matrix 1 : \\n {matrix1}\\nMatrix 2: \\n {matrix2}')\n",
    "print('-----------------------------') \n",
    "matrix_mul = np.matmul(matrix1, matrix2)\n",
    "print(f'Matrix multiplication of matrix1 and matrix2 : \\n {matrix_mul}')"
   ]
  },
  {
   "cell_type": "markdown",
   "metadata": {},
   "source": [
    "# Matrix Multiplication\n",
    "matrix multiplication is calculated using the np.matmul() function.\n",
    "Matrix multiplication is a binary operation that takes two matrices as inputs and produces another matrix as output. The number of columns in the first matrix must be equal to the number of rows in the second matrix for the multiplication to be defined.\n",
    "Here is the formula for matrix multiplication:\n",
    "\n",
    "\n",
    "Where A is an m x n matrix, B is an n x p matrix, and C is an m x p matrix. The element C[i, j] is the dot product of the i-th row of A and the j-th column of B.\n",
    "\n",
    "Here is an example in mathematical notation:\n",
    "\n",
    "  \n",
    "  \n",
    "  \n",
    " \n",
    "\n",
    "Here we have two 2 x 2 matrices, and the result of the matrix multiplication is another 2 x 2 matrix.\n",
    "\n",
    "Matrix multiplication also known as the dot product of two matrices."
   ]
  },
  {
   "cell_type": "code",
   "execution_count": 12,
   "metadata": {},
   "outputs": [
    {
     "name": "stdout",
     "output_type": "stream",
     "text": [
      "Matrix : \n",
      " [[1 2]\n",
      " [3 4]]\n",
      "-----------------------------\n",
      "Inverse of matrix : \n",
      " [[-2.   1. ]\n",
      " [ 1.5 -0.5]]\n"
     ]
    }
   ],
   "source": [
    "# inverse of a matrix \n",
    "matrix = np.array([[1, 2], [3, 4]])\n",
    "print(f'Matrix : \\n {matrix}')\n",
    "print('-----------------------------') \n",
    "matrix_inv = np.linalg.inv(matrix)\n",
    "print(f'Inverse of matrix : \\n {matrix_inv}')"
   ]
  },
  {
   "cell_type": "markdown",
   "metadata": {},
   "source": [
    "The inverse of a matrix is calculated using the np.linalg.inv() function.\n",
    "The inverse of a matrix is a matrix that, when multiplied by the original matrix, results in the identity matrix. The inverse of a matrix A is denoted as A^(-1).\n",
    "The inverse of a matrix A is defined as the matrix A^(-1) such that A^(-1) * A = A * A^(-1) = I, where I is the identity matrix.\n",
    "Here is the formula for the inverse of a matrix:\n",
    "\n",
    " \n",
    "\n",
    "Where det(A) is the determinant of matrix A and adj(A) is the adjugate of matrix A.\n",
    "\n",
    "Here is an example in mathematical notation of Identy matrix:\n",
    "\n",
    " \n",
    "\n",
    "Here we have a 3 x 3 identity matrix, where the diagonal elements are 1 and all other elements are 0.\n",
    "\n",
    "### Determinant of a Matrix\n",
    "Here is mathematical notation of Determinant matrix:\n",
    "\n",
    " \n",
    "\n",
    "Where a, b, c, and d are the elements of the matrix.\n",
    "\n",
    "Here we have a 2 x 2 matrix, and the determinant is calculated as ad - bc. For a 2 x 2 matrix, the determinant is the product of the diagonal elements minus the product of the off-diagonal elements. Example, for matrix [[1, 2], [3, 4]], the determinant is 1 * 4 - 2 * 3 = 4 - 6 = -2 as shown here:\n",
    "\n",
    " \n",
    "\n",
    "### Adjugate of a Matrix\n",
    "Here is the Adjucate matrix example:\n",
    "\n",
    " \n",
    "\n",
    "where a, b, c, and d are the elements of the matrix.\n",
    "\n",
    "### Inverse of a Matrix\n",
    "Let's see how to calculate the inverse of a matrix in mathematical notation. Here we have a 2 x 2 matrix [[1, 2], [3, 4]], and the inverse is calculated as follows:\n",
    "\n",
    " \n",
    " \n",
    " \n",
    " \n",
    "  \n",
    " "
   ]
  },
  {
   "cell_type": "code",
   "execution_count": 13,
   "metadata": {},
   "outputs": [
    {
     "name": "stdout",
     "output_type": "stream",
     "text": [
      "Matrix : \n",
      " [[1 2]\n",
      " [3 4]]\n",
      "-----------------------------\n",
      "Determinant of matrix : \n",
      " -2.0000000000000004\n"
     ]
    }
   ],
   "source": [
    "# determinant of matrix\n",
    "matrix = np.array([[1, 2], [3, 4]])\n",
    "print(f'Matrix : \\n {matrix}')\n",
    "print('-----------------------------') \n",
    "matrix_det = np.linalg.det(matrix)\n",
    "print(f'Determinant of matrix : \\n {matrix_det}')"
   ]
  },
  {
   "cell_type": "code",
   "execution_count": 15,
   "metadata": {},
   "outputs": [
    {
     "name": "stdout",
     "output_type": "stream",
     "text": [
      "Matrix : \n",
      " [[1 2]\n",
      " [3 4]]\n",
      "-----------------------------\n",
      "Eigenvalues and eigenvectors of matrix : \n",
      " EigResult(eigenvalues=array([-0.37228132,  5.37228132]), eigenvectors=array([[-0.82456484, -0.41597356],\n",
      "       [ 0.56576746, -0.90937671]]))\n"
     ]
    }
   ],
   "source": [
    "# eigenvalues and eigenvectors of a matrix\n",
    "matrix = np.array([[1,2],[3,4]])\n",
    "print(f'Matrix : \\n {matrix}')\n",
    "print('-----------------------------') \n",
    "matrix_eig = np.linalg.eig(matrix)\n",
    "print(f'Eigenvalues and eigenvectors of matrix : \\n {matrix_eig}')\n"
   ]
  },
  {
   "cell_type": "markdown",
   "metadata": {},
   "source": [
    "1- Eigenvalues and eigenvectors of a matrix are calculated using the np.linalg.eig() function.\n",
    "2- Eigenvalues and eigenvectors are properties of square matrices that describe how the matrix behaves when multiplied by a vector.\n",
    "3- The eigenvectors of a matrix are the vectors that remain in the same direction after the matrix transformation, while the eigenvalues are the scaling factors by which the eigenvectors are stretched or compressed.\n",
    "4- The eigenvectors and eigenvalues of a matrix are used in various applications, such as principal component analysis (PCA) and solving differential equations."
   ]
  },
  {
   "cell_type": "code",
   "execution_count": null,
   "metadata": {},
   "outputs": [],
   "source": []
  }
 ],
 "metadata": {
  "kernelspec": {
   "display_name": "data_analysis",
   "language": "python",
   "name": "python3"
  },
  "language_info": {
   "codemirror_mode": {
    "name": "ipython",
    "version": 3
   },
   "file_extension": ".py",
   "mimetype": "text/x-python",
   "name": "python",
   "nbconvert_exporter": "python",
   "pygments_lexer": "ipython3",
   "version": "3.13.0"
  }
 },
 "nbformat": 4,
 "nbformat_minor": 2
}
