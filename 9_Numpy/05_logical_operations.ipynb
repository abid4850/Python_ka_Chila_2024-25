{
 "cells": [
  {
   "cell_type": "markdown",
   "metadata": {},
   "source": [
    "# Numpy logical operations"
   ]
  },
  {
   "cell_type": "code",
   "execution_count": 1,
   "metadata": {},
   "outputs": [],
   "source": [
    "# Import libraries\n",
    "import numpy as np"
   ]
  },
  {
   "cell_type": "code",
   "execution_count": 3,
   "metadata": {},
   "outputs": [
    {
     "name": "stdout",
     "output_type": "stream",
     "text": [
      "Array: [ 1  2  3  4  5  6  7  8  9 10]\n",
      "----------------------------------------------------\n",
      "where Element greater than 3: (array([3, 4, 5, 6, 7, 8, 9]),)\n"
     ]
    }
   ],
   "source": [
    "# where functions\n",
    "arr = np.array([1, 2, 3, 4, 5, 6, 7, 8, 9, 10])\n",
    "print(f'Array: {arr}')\n",
    "print('----------------------------------------------------')\n",
    "where_arr = np.where(arr > 3)\n",
    "print(f'where Element greater than 3: {where_arr}')"
   ]
  },
  {
   "cell_type": "code",
   "execution_count": 4,
   "metadata": {},
   "outputs": [
    {
     "name": "stdout",
     "output_type": "stream",
     "text": [
      "Array: [ 1  2  3  4  5  6  7  8  9 10]\n",
      "----------------------------------------------------\n",
      "any Element greater than 3: True\n"
     ]
    }
   ],
   "source": [
    "# check any function in array\n",
    "arr = np.array([1, 2, 3, 4, 5, 6, 7, 8, 9, 10])\n",
    "print(f'Array: {arr}')\n",
    "print('----------------------------------------------------')\n",
    "check_arr = np.any(arr > 3)\n",
    "print(f'any Element greater than 3: {check_arr}')"
   ]
  },
  {
   "cell_type": "code",
   "execution_count": 5,
   "metadata": {},
   "outputs": [
    {
     "name": "stdout",
     "output_type": "stream",
     "text": [
      "Array: [ 1  2  3  4  5  6  7  8  9 10]\n",
      "----------------------------------------------------\n",
      "all Element greater than 3: False\n"
     ]
    }
   ],
   "source": [
    "# np.all check if all number in an array is greater than 3\n",
    "arr = np.array([1, 2, 3, 4, 5, 6, 7, 8, 9, 10])\n",
    "print(f'Array: {arr}')\n",
    "print('----------------------------------------------------')\n",
    "all_arr = np.all(arr > 3)\n",
    "print(f'all Element greater than 3: {all_arr}')     "
   ]
  },
  {
   "cell_type": "code",
   "execution_count": 8,
   "metadata": {},
   "outputs": [
    {
     "name": "stdout",
     "output_type": "stream",
     "text": [
      "Array 1: [1 2 3 4 5]\n",
      "Array 2: [4 5 6 7 8]\n",
      "\n",
      "----------------------------------------------------\n",
      "elements in array1 that are also in array2: [False False False  True  True]\n"
     ]
    }
   ],
   "source": [
    "# check if element are in another array\n",
    "arr1 = np.array([1, 2, 3, 4, 5])\n",
    "arr2 = np.array([4, 5, 6, 7, 8])\n",
    "print(f'Array 1: {arr1}\\nArray 2: {arr2}\\n')\n",
    "print('----------------------------------------------------')\n",
    "isin_arr = np.isin(arr1, arr2)\n",
    "print(f'elements in array1 that are also in array2: {isin_arr}')"
   ]
  },
  {
   "cell_type": "code",
   "execution_count": 10,
   "metadata": {},
   "outputs": [
    {
     "name": "stdout",
     "output_type": "stream",
     "text": [
      "Array: [1 2 3 4 5 1 4 5]\n",
      "----------------------------------------------------\n",
      "unique element in array: [1 2 3 4 5]\n"
     ]
    }
   ],
   "source": [
    "# Unique function\n",
    "arr = np.array([1, 2, 3, 4, 5, 1, 4, 5])\n",
    "print(f'Array: {arr}')\n",
    "print('----------------------------------------------------')\n",
    "unique_arr = np.unique(arr)\n",
    "print(f'unique element in array: {unique_arr}')"
   ]
  },
  {
   "cell_type": "code",
   "execution_count": 12,
   "metadata": {},
   "outputs": [
    {
     "name": "stdout",
     "output_type": "stream",
     "text": [
      "array1: [1 2 3 4 5]\n",
      "array2: [4 5 6 7 8]\n",
      "---------------------------------------------------------\n",
      "union of array1 and array2: [1 2 3 4 5 6 7 8]\n",
      "---------------------------------------------------------\n",
      "intersection of array1 and array2: [4 5]\n",
      "---------------------------------------------------------\n",
      "difference of array1 and array2: [1 2 3]\n",
      "---------------------------------------------------------\n",
      "symmetric difference of array1 and array2: [1 2 3 6 7 8]\n"
     ]
    }
   ],
   "source": [
    "# set operations\n",
    "arr1 = np.array([1, 2, 3, 4, 5])\n",
    "arr2 = np.array([4, 5, 6, 7, 8])\n",
    "print(f\"array1: {arr1}\")\n",
    "print(f\"array2: {arr2}\")\n",
    "print(\"---------------------------------------------------------\")\n",
    "\n",
    "# union\n",
    "union_arr = np.union1d(arr1, arr2)\n",
    "print(f\"union of array1 and array2: {union_arr}\")\n",
    "print(\"---------------------------------------------------------\")\n",
    "# intersection\n",
    "intersection_arr = np.intersect1d(arr1, arr2)\n",
    "print(f\"intersection of array1 and array2: {intersection_arr}\")\n",
    "print(\"---------------------------------------------------------\")\n",
    "\n",
    "# difference\n",
    "diff_arr = np.setdiff1d(arr1, arr2)\n",
    "print(f\"difference of array1 and array2: {diff_arr}\")\n",
    "print(\"---------------------------------------------------------\")\n",
    "\n",
    "# symmetric difference\n",
    "sym_diff_arr = np.setxor1d(arr1, arr2)\n",
    "print(f\"symmetric difference of array1 and array2: {sym_diff_arr}\")"
   ]
  },
  {
   "cell_type": "markdown",
   "metadata": {},
   "source": [
    "Sytematic difference of two arrays is calculated using the np.setdiff1d() function."
   ]
  }
 ],
 "metadata": {
  "kernelspec": {
   "display_name": "data_analysis",
   "language": "python",
   "name": "python3"
  },
  "language_info": {
   "codemirror_mode": {
    "name": "ipython",
    "version": 3
   },
   "file_extension": ".py",
   "mimetype": "text/x-python",
   "name": "python",
   "nbconvert_exporter": "python",
   "pygments_lexer": "ipython3",
   "version": "3.13.0"
  }
 },
 "nbformat": 4,
 "nbformat_minor": 2
}
