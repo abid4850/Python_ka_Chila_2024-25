{
 "cells": [
  {
   "cell_type": "markdown",
   "metadata": {},
   "source": [
    "# Exploratory Data Analysis on Train Journey Lahore to Karachi Dataset\n",
    "By Abid Hussain"
   ]
  },
  {
   "cell_type": "markdown",
   "metadata": {},
   "source": [
    "# Using train Journey Dataset"
   ]
  },
  {
   "cell_type": "code",
   "execution_count": 72,
   "metadata": {},
   "outputs": [],
   "source": [
    "# Import libraries\n",
    "import pandas as pd\n",
    "# Load the dataset\n",
    "df = pd.read_csv(r\"D:\\Data_Science data\\Python_ka_Chila\\dataframe\\train_journey_lhr_karachi.csv\")"
   ]
  },
  {
   "cell_type": "code",
   "execution_count": 73,
   "metadata": {},
   "outputs": [
    {
     "data": {
      "text/html": [
       "<div>\n",
       "<style scoped>\n",
       "    .dataframe tbody tr th:only-of-type {\n",
       "        vertical-align: middle;\n",
       "    }\n",
       "\n",
       "    .dataframe tbody tr th {\n",
       "        vertical-align: top;\n",
       "    }\n",
       "\n",
       "    .dataframe thead th {\n",
       "        text-align: right;\n",
       "    }\n",
       "</style>\n",
       "<table border=\"1\" class=\"dataframe\">\n",
       "  <thead>\n",
       "    <tr style=\"text-align: right;\">\n",
       "      <th></th>\n",
       "      <th>PassengerID</th>\n",
       "      <th>TrainName</th>\n",
       "      <th>Name</th>\n",
       "      <th>Gender</th>\n",
       "      <th>Age</th>\n",
       "      <th>Profession</th>\n",
       "      <th>Class</th>\n",
       "      <th>TicketPrice</th>\n",
       "      <th>TrainCar</th>\n",
       "      <th>SeatNumber</th>\n",
       "      <th>MaritalStatus</th>\n",
       "      <th>NumberOfChildren</th>\n",
       "      <th>CompanionCount</th>\n",
       "      <th>BaggageWeight</th>\n",
       "      <th>MealPreference</th>\n",
       "      <th>Station</th>\n",
       "      <th>ArrivalTime</th>\n",
       "      <th>DepartureTime</th>\n",
       "      <th>who</th>\n",
       "      <th>FamilySize</th>\n",
       "    </tr>\n",
       "  </thead>\n",
       "  <tbody>\n",
       "    <tr>\n",
       "      <th>0</th>\n",
       "      <td>1</td>\n",
       "      <td>Shalimar Express</td>\n",
       "      <td>Ahmed Fahad Bhatti</td>\n",
       "      <td>Male</td>\n",
       "      <td>17.0</td>\n",
       "      <td>Student</td>\n",
       "      <td>Economy</td>\n",
       "      <td>6888</td>\n",
       "      <td>Coach-6</td>\n",
       "      <td>S-49</td>\n",
       "      <td>Single</td>\n",
       "      <td>1</td>\n",
       "      <td>2.0</td>\n",
       "      <td>32.02</td>\n",
       "      <td>Paratha Roll</td>\n",
       "      <td>Walton</td>\n",
       "      <td>06:32</td>\n",
       "      <td>06:34</td>\n",
       "      <td>Child</td>\n",
       "      <td>3</td>\n",
       "    </tr>\n",
       "    <tr>\n",
       "      <th>1</th>\n",
       "      <td>2</td>\n",
       "      <td>Shalimar Express</td>\n",
       "      <td>Bilal Jamal Jutt</td>\n",
       "      <td>Female</td>\n",
       "      <td>41.0</td>\n",
       "      <td>Student</td>\n",
       "      <td>AC Business</td>\n",
       "      <td>6888</td>\n",
       "      <td>Coach-2</td>\n",
       "      <td>S-67</td>\n",
       "      <td>Married</td>\n",
       "      <td>0</td>\n",
       "      <td>2.0</td>\n",
       "      <td>45.93</td>\n",
       "      <td>Biryani</td>\n",
       "      <td>Padidan</td>\n",
       "      <td>01:04</td>\n",
       "      <td>01:06</td>\n",
       "      <td>Female</td>\n",
       "      <td>3</td>\n",
       "    </tr>\n",
       "    <tr>\n",
       "      <th>2</th>\n",
       "      <td>3</td>\n",
       "      <td>Shalimar Express</td>\n",
       "      <td>Ahmed Fahad Sheikh</td>\n",
       "      <td>Male</td>\n",
       "      <td>22.0</td>\n",
       "      <td>Soldier</td>\n",
       "      <td>Economy</td>\n",
       "      <td>3588</td>\n",
       "      <td>Coach-16</td>\n",
       "      <td>S-47</td>\n",
       "      <td>Single</td>\n",
       "      <td>4</td>\n",
       "      <td>3.0</td>\n",
       "      <td>26.44</td>\n",
       "      <td>Biryani</td>\n",
       "      <td>Liaquatpur</td>\n",
       "      <td>18:16</td>\n",
       "      <td>18:18</td>\n",
       "      <td>Male</td>\n",
       "      <td>7</td>\n",
       "    </tr>\n",
       "    <tr>\n",
       "      <th>3</th>\n",
       "      <td>4</td>\n",
       "      <td>Shalimar Express</td>\n",
       "      <td>Hira Saeed Qureshi</td>\n",
       "      <td>Male</td>\n",
       "      <td>72.0</td>\n",
       "      <td>Soldier</td>\n",
       "      <td>AC Business</td>\n",
       "      <td>6888</td>\n",
       "      <td>Coach-2</td>\n",
       "      <td>S-59</td>\n",
       "      <td>Married</td>\n",
       "      <td>1</td>\n",
       "      <td>1.0</td>\n",
       "      <td>23.57</td>\n",
       "      <td>Karahi</td>\n",
       "      <td>Machhian Wala</td>\n",
       "      <td>13:15</td>\n",
       "      <td>13:17</td>\n",
       "      <td>Male</td>\n",
       "      <td>3</td>\n",
       "    </tr>\n",
       "    <tr>\n",
       "      <th>4</th>\n",
       "      <td>5</td>\n",
       "      <td>Shalimar Express</td>\n",
       "      <td>Ali Iqbal Siddiqui</td>\n",
       "      <td>Female</td>\n",
       "      <td>56.0</td>\n",
       "      <td>Soldier</td>\n",
       "      <td>Economy</td>\n",
       "      <td>6888</td>\n",
       "      <td>Coach-6</td>\n",
       "      <td>S-3</td>\n",
       "      <td>Married</td>\n",
       "      <td>3</td>\n",
       "      <td>3.0</td>\n",
       "      <td>38.00</td>\n",
       "      <td>Biryani</td>\n",
       "      <td>Raiwind Jn.</td>\n",
       "      <td>07:10</td>\n",
       "      <td>07:15</td>\n",
       "      <td>Female</td>\n",
       "      <td>7</td>\n",
       "    </tr>\n",
       "  </tbody>\n",
       "</table>\n",
       "</div>"
      ],
      "text/plain": [
       "   PassengerID         TrainName                Name  Gender   Age Profession  \\\n",
       "0            1  Shalimar Express  Ahmed Fahad Bhatti    Male  17.0    Student   \n",
       "1            2  Shalimar Express    Bilal Jamal Jutt  Female  41.0    Student   \n",
       "2            3  Shalimar Express  Ahmed Fahad Sheikh    Male  22.0    Soldier   \n",
       "3            4  Shalimar Express  Hira Saeed Qureshi    Male  72.0    Soldier   \n",
       "4            5  Shalimar Express  Ali Iqbal Siddiqui  Female  56.0    Soldier   \n",
       "\n",
       "         Class  TicketPrice  TrainCar SeatNumber MaritalStatus  \\\n",
       "0      Economy         6888   Coach-6       S-49        Single   \n",
       "1  AC Business         6888   Coach-2       S-67       Married   \n",
       "2      Economy         3588  Coach-16       S-47        Single   \n",
       "3  AC Business         6888   Coach-2       S-59       Married   \n",
       "4      Economy         6888   Coach-6        S-3       Married   \n",
       "\n",
       "   NumberOfChildren  CompanionCount  BaggageWeight MealPreference  \\\n",
       "0                 1             2.0          32.02   Paratha Roll   \n",
       "1                 0             2.0          45.93        Biryani   \n",
       "2                 4             3.0          26.44        Biryani   \n",
       "3                 1             1.0          23.57         Karahi   \n",
       "4                 3             3.0          38.00        Biryani   \n",
       "\n",
       "         Station ArrivalTime DepartureTime     who  FamilySize  \n",
       "0         Walton       06:32         06:34   Child           3  \n",
       "1        Padidan       01:04         01:06  Female           3  \n",
       "2     Liaquatpur       18:16         18:18    Male           7  \n",
       "3  Machhian Wala       13:15         13:17    Male           3  \n",
       "4    Raiwind Jn.       07:10         07:15  Female           7  "
      ]
     },
     "execution_count": 73,
     "metadata": {},
     "output_type": "execute_result"
    }
   ],
   "source": [
    "df.head()"
   ]
  },
  {
   "cell_type": "code",
   "execution_count": 74,
   "metadata": {},
   "outputs": [
    {
     "data": {
      "text/html": [
       "<div>\n",
       "<style scoped>\n",
       "    .dataframe tbody tr th:only-of-type {\n",
       "        vertical-align: middle;\n",
       "    }\n",
       "\n",
       "    .dataframe tbody tr th {\n",
       "        vertical-align: top;\n",
       "    }\n",
       "\n",
       "    .dataframe thead th {\n",
       "        text-align: right;\n",
       "    }\n",
       "</style>\n",
       "<table border=\"1\" class=\"dataframe\">\n",
       "  <thead>\n",
       "    <tr style=\"text-align: right;\">\n",
       "      <th></th>\n",
       "      <th>PassengerID</th>\n",
       "      <th>TrainName</th>\n",
       "      <th>Name</th>\n",
       "      <th>Gender</th>\n",
       "      <th>Age</th>\n",
       "      <th>Profession</th>\n",
       "      <th>Class</th>\n",
       "      <th>TicketPrice</th>\n",
       "      <th>TrainCar</th>\n",
       "      <th>SeatNumber</th>\n",
       "      <th>MaritalStatus</th>\n",
       "      <th>NumberOfChildren</th>\n",
       "      <th>CompanionCount</th>\n",
       "      <th>BaggageWeight</th>\n",
       "      <th>MealPreference</th>\n",
       "      <th>Station</th>\n",
       "      <th>ArrivalTime</th>\n",
       "      <th>DepartureTime</th>\n",
       "      <th>who</th>\n",
       "      <th>FamilySize</th>\n",
       "    </tr>\n",
       "  </thead>\n",
       "  <tbody>\n",
       "    <tr>\n",
       "      <th>9995</th>\n",
       "      <td>9996</td>\n",
       "      <td>Shalimar Express</td>\n",
       "      <td>Ayesha Nawaz Butt</td>\n",
       "      <td>Female</td>\n",
       "      <td>44.0</td>\n",
       "      <td>Doctor</td>\n",
       "      <td>Economy</td>\n",
       "      <td>3588</td>\n",
       "      <td>Coach-4</td>\n",
       "      <td>S-4</td>\n",
       "      <td>Single</td>\n",
       "      <td>1</td>\n",
       "      <td>2.0</td>\n",
       "      <td>37.17</td>\n",
       "      <td>Karahi</td>\n",
       "      <td>Mahrabpur</td>\n",
       "      <td>00:11</td>\n",
       "      <td>00:13</td>\n",
       "      <td>Female</td>\n",
       "      <td>3</td>\n",
       "    </tr>\n",
       "    <tr>\n",
       "      <th>9996</th>\n",
       "      <td>9997</td>\n",
       "      <td>Shalimar Express</td>\n",
       "      <td>Hira Hussain Khan</td>\n",
       "      <td>Female</td>\n",
       "      <td>58.0</td>\n",
       "      <td>Teacher</td>\n",
       "      <td>Economy</td>\n",
       "      <td>6888</td>\n",
       "      <td>Coach-1</td>\n",
       "      <td>S-48</td>\n",
       "      <td>Married</td>\n",
       "      <td>0</td>\n",
       "      <td>1.0</td>\n",
       "      <td>28.17</td>\n",
       "      <td>Paratha Roll</td>\n",
       "      <td>Khudian</td>\n",
       "      <td>08:45</td>\n",
       "      <td>08:47</td>\n",
       "      <td>Female</td>\n",
       "      <td>2</td>\n",
       "    </tr>\n",
       "    <tr>\n",
       "      <th>9997</th>\n",
       "      <td>9998</td>\n",
       "      <td>Shalimar Express</td>\n",
       "      <td>Sara Saeed Jutt</td>\n",
       "      <td>Male</td>\n",
       "      <td>28.0</td>\n",
       "      <td>Businessperson</td>\n",
       "      <td>AC Business</td>\n",
       "      <td>3588</td>\n",
       "      <td>Coach-2</td>\n",
       "      <td>S-89</td>\n",
       "      <td>Single</td>\n",
       "      <td>4</td>\n",
       "      <td>2.0</td>\n",
       "      <td>26.24</td>\n",
       "      <td>Paratha Roll</td>\n",
       "      <td>Haveli Wasawewala</td>\n",
       "      <td>10:30</td>\n",
       "      <td>10:32</td>\n",
       "      <td>Male</td>\n",
       "      <td>6</td>\n",
       "    </tr>\n",
       "    <tr>\n",
       "      <th>9998</th>\n",
       "      <td>9999</td>\n",
       "      <td>Shalimar Express</td>\n",
       "      <td>Zain Asghar Rana</td>\n",
       "      <td>Female</td>\n",
       "      <td>24.0</td>\n",
       "      <td>Doctor</td>\n",
       "      <td>Economy</td>\n",
       "      <td>3588</td>\n",
       "      <td>Coach-9</td>\n",
       "      <td>S-77</td>\n",
       "      <td>Single</td>\n",
       "      <td>0</td>\n",
       "      <td>0.0</td>\n",
       "      <td>27.03</td>\n",
       "      <td>Nihari</td>\n",
       "      <td>Kasur Jn.</td>\n",
       "      <td>07:40</td>\n",
       "      <td>08:20</td>\n",
       "      <td>Female</td>\n",
       "      <td>0</td>\n",
       "    </tr>\n",
       "    <tr>\n",
       "      <th>9999</th>\n",
       "      <td>10000</td>\n",
       "      <td>Shalimar Express</td>\n",
       "      <td>Ayesha Iqbal Jutt</td>\n",
       "      <td>Male</td>\n",
       "      <td>28.0</td>\n",
       "      <td>Doctor</td>\n",
       "      <td>Economy</td>\n",
       "      <td>3588</td>\n",
       "      <td>Coach-4</td>\n",
       "      <td>S-43</td>\n",
       "      <td>Single</td>\n",
       "      <td>4</td>\n",
       "      <td>3.0</td>\n",
       "      <td>11.66</td>\n",
       "      <td>Biryani</td>\n",
       "      <td>Liaquatpur</td>\n",
       "      <td>18:16</td>\n",
       "      <td>18:18</td>\n",
       "      <td>Male</td>\n",
       "      <td>7</td>\n",
       "    </tr>\n",
       "  </tbody>\n",
       "</table>\n",
       "</div>"
      ],
      "text/plain": [
       "      PassengerID         TrainName               Name  Gender   Age  \\\n",
       "9995         9996  Shalimar Express  Ayesha Nawaz Butt  Female  44.0   \n",
       "9996         9997  Shalimar Express  Hira Hussain Khan  Female  58.0   \n",
       "9997         9998  Shalimar Express    Sara Saeed Jutt    Male  28.0   \n",
       "9998         9999  Shalimar Express   Zain Asghar Rana  Female  24.0   \n",
       "9999        10000  Shalimar Express  Ayesha Iqbal Jutt    Male  28.0   \n",
       "\n",
       "          Profession        Class  TicketPrice TrainCar SeatNumber  \\\n",
       "9995          Doctor      Economy         3588  Coach-4        S-4   \n",
       "9996         Teacher      Economy         6888  Coach-1       S-48   \n",
       "9997  Businessperson  AC Business         3588  Coach-2       S-89   \n",
       "9998          Doctor      Economy         3588  Coach-9       S-77   \n",
       "9999          Doctor      Economy         3588  Coach-4       S-43   \n",
       "\n",
       "     MaritalStatus  NumberOfChildren  CompanionCount  BaggageWeight  \\\n",
       "9995        Single                 1             2.0          37.17   \n",
       "9996       Married                 0             1.0          28.17   \n",
       "9997        Single                 4             2.0          26.24   \n",
       "9998        Single                 0             0.0          27.03   \n",
       "9999        Single                 4             3.0          11.66   \n",
       "\n",
       "     MealPreference            Station ArrivalTime DepartureTime     who  \\\n",
       "9995         Karahi          Mahrabpur       00:11         00:13  Female   \n",
       "9996   Paratha Roll            Khudian       08:45         08:47  Female   \n",
       "9997   Paratha Roll  Haveli Wasawewala       10:30         10:32    Male   \n",
       "9998         Nihari          Kasur Jn.       07:40         08:20  Female   \n",
       "9999        Biryani         Liaquatpur       18:16         18:18    Male   \n",
       "\n",
       "      FamilySize  \n",
       "9995           3  \n",
       "9996           2  \n",
       "9997           6  \n",
       "9998           0  \n",
       "9999           7  "
      ]
     },
     "execution_count": 74,
     "metadata": {},
     "output_type": "execute_result"
    }
   ],
   "source": [
    "# Tail , sample , datatype\n",
    "df.tail()"
   ]
  },
  {
   "cell_type": "code",
   "execution_count": 75,
   "metadata": {},
   "outputs": [
    {
     "data": {
      "text/html": [
       "<div>\n",
       "<style scoped>\n",
       "    .dataframe tbody tr th:only-of-type {\n",
       "        vertical-align: middle;\n",
       "    }\n",
       "\n",
       "    .dataframe tbody tr th {\n",
       "        vertical-align: top;\n",
       "    }\n",
       "\n",
       "    .dataframe thead th {\n",
       "        text-align: right;\n",
       "    }\n",
       "</style>\n",
       "<table border=\"1\" class=\"dataframe\">\n",
       "  <thead>\n",
       "    <tr style=\"text-align: right;\">\n",
       "      <th></th>\n",
       "      <th>PassengerID</th>\n",
       "      <th>TrainName</th>\n",
       "      <th>Name</th>\n",
       "      <th>Gender</th>\n",
       "      <th>Age</th>\n",
       "      <th>Profession</th>\n",
       "      <th>Class</th>\n",
       "      <th>TicketPrice</th>\n",
       "      <th>TrainCar</th>\n",
       "      <th>SeatNumber</th>\n",
       "      <th>MaritalStatus</th>\n",
       "      <th>NumberOfChildren</th>\n",
       "      <th>CompanionCount</th>\n",
       "      <th>BaggageWeight</th>\n",
       "      <th>MealPreference</th>\n",
       "      <th>Station</th>\n",
       "      <th>ArrivalTime</th>\n",
       "      <th>DepartureTime</th>\n",
       "      <th>who</th>\n",
       "      <th>FamilySize</th>\n",
       "    </tr>\n",
       "  </thead>\n",
       "  <tbody>\n",
       "    <tr>\n",
       "      <th>476</th>\n",
       "      <td>477</td>\n",
       "      <td>Shalimar Express</td>\n",
       "      <td>Amir Raza Khan</td>\n",
       "      <td>Male</td>\n",
       "      <td>12.0</td>\n",
       "      <td>Teacher</td>\n",
       "      <td>AC Business</td>\n",
       "      <td>6888</td>\n",
       "      <td>Coach-1</td>\n",
       "      <td>S-39</td>\n",
       "      <td>Married</td>\n",
       "      <td>4</td>\n",
       "      <td>0.0</td>\n",
       "      <td>33.23</td>\n",
       "      <td>Biryani</td>\n",
       "      <td>Raiwind Jn.</td>\n",
       "      <td>07:10</td>\n",
       "      <td>07:15</td>\n",
       "      <td>Child</td>\n",
       "      <td>5</td>\n",
       "    </tr>\n",
       "    <tr>\n",
       "      <th>8610</th>\n",
       "      <td>8611</td>\n",
       "      <td>Shalimar Express</td>\n",
       "      <td>Bilal Saeed Qureshi</td>\n",
       "      <td>Male</td>\n",
       "      <td>26.0</td>\n",
       "      <td>Farmer</td>\n",
       "      <td>Economy</td>\n",
       "      <td>6888</td>\n",
       "      <td>Coach-15</td>\n",
       "      <td>S-45</td>\n",
       "      <td>Single</td>\n",
       "      <td>3</td>\n",
       "      <td>4.0</td>\n",
       "      <td>19.06</td>\n",
       "      <td>Paratha Roll</td>\n",
       "      <td>Machhian Wala</td>\n",
       "      <td>13:15</td>\n",
       "      <td>13:17</td>\n",
       "      <td>Male</td>\n",
       "      <td>7</td>\n",
       "    </tr>\n",
       "    <tr>\n",
       "      <th>7958</th>\n",
       "      <td>7959</td>\n",
       "      <td>Shalimar Express</td>\n",
       "      <td>Bilal Rizwan Malik</td>\n",
       "      <td>Female</td>\n",
       "      <td>30.0</td>\n",
       "      <td>Soldier</td>\n",
       "      <td>AC Business</td>\n",
       "      <td>3588</td>\n",
       "      <td>Coach-6</td>\n",
       "      <td>S-62</td>\n",
       "      <td>Married</td>\n",
       "      <td>2</td>\n",
       "      <td>0.0</td>\n",
       "      <td>21.61</td>\n",
       "      <td>Daal Chaawal</td>\n",
       "      <td>Landhi Jn.</td>\n",
       "      <td>07:10</td>\n",
       "      <td>07:12</td>\n",
       "      <td>Female</td>\n",
       "      <td>3</td>\n",
       "    </tr>\n",
       "    <tr>\n",
       "      <th>6737</th>\n",
       "      <td>6738</td>\n",
       "      <td>Shalimar Express</td>\n",
       "      <td>Hira Asghar Siddiqui</td>\n",
       "      <td>Female</td>\n",
       "      <td>37.0</td>\n",
       "      <td>Doctor</td>\n",
       "      <td>AC Business</td>\n",
       "      <td>6888</td>\n",
       "      <td>Coach-1</td>\n",
       "      <td>S-13</td>\n",
       "      <td>Married</td>\n",
       "      <td>1</td>\n",
       "      <td>2.0</td>\n",
       "      <td>39.54</td>\n",
       "      <td>Karahi</td>\n",
       "      <td>Liaquatpur</td>\n",
       "      <td>18:16</td>\n",
       "      <td>18:18</td>\n",
       "      <td>Female</td>\n",
       "      <td>4</td>\n",
       "    </tr>\n",
       "    <tr>\n",
       "      <th>8406</th>\n",
       "      <td>8407</td>\n",
       "      <td>Shalimar Express</td>\n",
       "      <td>Zain Asghar Chaudhry</td>\n",
       "      <td>Female</td>\n",
       "      <td>12.0</td>\n",
       "      <td>Police Officer</td>\n",
       "      <td>Economy</td>\n",
       "      <td>3588</td>\n",
       "      <td>Coach-12</td>\n",
       "      <td>S-10</td>\n",
       "      <td>Single</td>\n",
       "      <td>4</td>\n",
       "      <td>3.0</td>\n",
       "      <td>30.47</td>\n",
       "      <td>Daal Chaawal</td>\n",
       "      <td>Kanganpur</td>\n",
       "      <td>09:21</td>\n",
       "      <td>09:23</td>\n",
       "      <td>Child</td>\n",
       "      <td>7</td>\n",
       "    </tr>\n",
       "  </tbody>\n",
       "</table>\n",
       "</div>"
      ],
      "text/plain": [
       "      PassengerID         TrainName                  Name  Gender   Age  \\\n",
       "476           477  Shalimar Express        Amir Raza Khan    Male  12.0   \n",
       "8610         8611  Shalimar Express   Bilal Saeed Qureshi    Male  26.0   \n",
       "7958         7959  Shalimar Express    Bilal Rizwan Malik  Female  30.0   \n",
       "6737         6738  Shalimar Express  Hira Asghar Siddiqui  Female  37.0   \n",
       "8406         8407  Shalimar Express  Zain Asghar Chaudhry  Female  12.0   \n",
       "\n",
       "          Profession        Class  TicketPrice  TrainCar SeatNumber  \\\n",
       "476          Teacher  AC Business         6888   Coach-1       S-39   \n",
       "8610          Farmer      Economy         6888  Coach-15       S-45   \n",
       "7958         Soldier  AC Business         3588   Coach-6       S-62   \n",
       "6737          Doctor  AC Business         6888   Coach-1       S-13   \n",
       "8406  Police Officer      Economy         3588  Coach-12       S-10   \n",
       "\n",
       "     MaritalStatus  NumberOfChildren  CompanionCount  BaggageWeight  \\\n",
       "476        Married                 4             0.0          33.23   \n",
       "8610        Single                 3             4.0          19.06   \n",
       "7958       Married                 2             0.0          21.61   \n",
       "6737       Married                 1             2.0          39.54   \n",
       "8406        Single                 4             3.0          30.47   \n",
       "\n",
       "     MealPreference        Station ArrivalTime DepartureTime     who  \\\n",
       "476         Biryani    Raiwind Jn.       07:10         07:15   Child   \n",
       "8610   Paratha Roll  Machhian Wala       13:15         13:17    Male   \n",
       "7958   Daal Chaawal     Landhi Jn.       07:10         07:12  Female   \n",
       "6737         Karahi     Liaquatpur       18:16         18:18  Female   \n",
       "8406   Daal Chaawal      Kanganpur       09:21         09:23   Child   \n",
       "\n",
       "      FamilySize  \n",
       "476            5  \n",
       "8610           7  \n",
       "7958           3  \n",
       "6737           4  \n",
       "8406           7  "
      ]
     },
     "execution_count": 75,
     "metadata": {},
     "output_type": "execute_result"
    }
   ],
   "source": [
    "df.sample(5)"
   ]
  },
  {
   "cell_type": "code",
   "execution_count": 76,
   "metadata": {},
   "outputs": [
    {
     "name": "stdout",
     "output_type": "stream",
     "text": [
      "<class 'pandas.core.frame.DataFrame'>\n",
      "RangeIndex: 10000 entries, 0 to 9999\n",
      "Data columns (total 20 columns):\n",
      " #   Column            Non-Null Count  Dtype  \n",
      "---  ------            --------------  -----  \n",
      " 0   PassengerID       10000 non-null  int64  \n",
      " 1   TrainName         10000 non-null  object \n",
      " 2   Name              10000 non-null  object \n",
      " 3   Gender            10000 non-null  object \n",
      " 4   Age               9797 non-null   float64\n",
      " 5   Profession        10000 non-null  object \n",
      " 6   Class             10000 non-null  object \n",
      " 7   TicketPrice       10000 non-null  int64  \n",
      " 8   TrainCar          10000 non-null  object \n",
      " 9   SeatNumber        10000 non-null  object \n",
      " 10  MaritalStatus     10000 non-null  object \n",
      " 11  NumberOfChildren  10000 non-null  int64  \n",
      " 12  CompanionCount    9850 non-null   float64\n",
      " 13  BaggageWeight     10000 non-null  float64\n",
      " 14  MealPreference    10000 non-null  object \n",
      " 15  Station           9900 non-null   object \n",
      " 16  ArrivalTime       10000 non-null  object \n",
      " 17  DepartureTime     10000 non-null  object \n",
      " 18  who               10000 non-null  object \n",
      " 19  FamilySize        10000 non-null  int64  \n",
      "dtypes: float64(3), int64(4), object(13)\n",
      "memory usage: 1.5+ MB\n"
     ]
    }
   ],
   "source": [
    "df.info()"
   ]
  },
  {
   "cell_type": "code",
   "execution_count": 77,
   "metadata": {},
   "outputs": [
    {
     "data": {
      "text/html": [
       "<div>\n",
       "<style scoped>\n",
       "    .dataframe tbody tr th:only-of-type {\n",
       "        vertical-align: middle;\n",
       "    }\n",
       "\n",
       "    .dataframe tbody tr th {\n",
       "        vertical-align: top;\n",
       "    }\n",
       "\n",
       "    .dataframe thead th {\n",
       "        text-align: right;\n",
       "    }\n",
       "</style>\n",
       "<table border=\"1\" class=\"dataframe\">\n",
       "  <thead>\n",
       "    <tr style=\"text-align: right;\">\n",
       "      <th></th>\n",
       "      <th>PassengerID</th>\n",
       "      <th>Age</th>\n",
       "      <th>TicketPrice</th>\n",
       "      <th>NumberOfChildren</th>\n",
       "      <th>CompanionCount</th>\n",
       "      <th>BaggageWeight</th>\n",
       "      <th>FamilySize</th>\n",
       "    </tr>\n",
       "  </thead>\n",
       "  <tbody>\n",
       "    <tr>\n",
       "      <th>count</th>\n",
       "      <td>10000.00000</td>\n",
       "      <td>9797.000000</td>\n",
       "      <td>10000.00000</td>\n",
       "      <td>10000.000000</td>\n",
       "      <td>9850.000000</td>\n",
       "      <td>10000.000000</td>\n",
       "      <td>10000.000000</td>\n",
       "    </tr>\n",
       "    <tr>\n",
       "      <th>mean</th>\n",
       "      <td>5000.50000</td>\n",
       "      <td>42.171175</td>\n",
       "      <td>5301.31200</td>\n",
       "      <td>1.994100</td>\n",
       "      <td>1.996650</td>\n",
       "      <td>30.008562</td>\n",
       "      <td>4.489800</td>\n",
       "    </tr>\n",
       "    <tr>\n",
       "      <th>std</th>\n",
       "      <td>2886.89568</td>\n",
       "      <td>21.688927</td>\n",
       "      <td>2601.29774</td>\n",
       "      <td>1.413742</td>\n",
       "      <td>1.417759</td>\n",
       "      <td>11.589531</td>\n",
       "      <td>2.065653</td>\n",
       "    </tr>\n",
       "    <tr>\n",
       "      <th>min</th>\n",
       "      <td>1.00000</td>\n",
       "      <td>5.000000</td>\n",
       "      <td>3588.00000</td>\n",
       "      <td>0.000000</td>\n",
       "      <td>0.000000</td>\n",
       "      <td>10.000000</td>\n",
       "      <td>0.000000</td>\n",
       "    </tr>\n",
       "    <tr>\n",
       "      <th>25%</th>\n",
       "      <td>2500.75000</td>\n",
       "      <td>23.000000</td>\n",
       "      <td>3588.00000</td>\n",
       "      <td>1.000000</td>\n",
       "      <td>1.000000</td>\n",
       "      <td>19.950000</td>\n",
       "      <td>3.000000</td>\n",
       "    </tr>\n",
       "    <tr>\n",
       "      <th>50%</th>\n",
       "      <td>5000.50000</td>\n",
       "      <td>43.000000</td>\n",
       "      <td>6888.00000</td>\n",
       "      <td>2.000000</td>\n",
       "      <td>2.000000</td>\n",
       "      <td>29.955000</td>\n",
       "      <td>5.000000</td>\n",
       "    </tr>\n",
       "    <tr>\n",
       "      <th>75%</th>\n",
       "      <td>7500.25000</td>\n",
       "      <td>61.000000</td>\n",
       "      <td>6888.00000</td>\n",
       "      <td>3.000000</td>\n",
       "      <td>3.000000</td>\n",
       "      <td>40.180000</td>\n",
       "      <td>6.000000</td>\n",
       "    </tr>\n",
       "    <tr>\n",
       "      <th>max</th>\n",
       "      <td>10000.00000</td>\n",
       "      <td>79.000000</td>\n",
       "      <td>68880.00000</td>\n",
       "      <td>4.000000</td>\n",
       "      <td>4.000000</td>\n",
       "      <td>49.990000</td>\n",
       "      <td>9.000000</td>\n",
       "    </tr>\n",
       "  </tbody>\n",
       "</table>\n",
       "</div>"
      ],
      "text/plain": [
       "       PassengerID          Age  TicketPrice  NumberOfChildren  \\\n",
       "count  10000.00000  9797.000000  10000.00000      10000.000000   \n",
       "mean    5000.50000    42.171175   5301.31200          1.994100   \n",
       "std     2886.89568    21.688927   2601.29774          1.413742   \n",
       "min        1.00000     5.000000   3588.00000          0.000000   \n",
       "25%     2500.75000    23.000000   3588.00000          1.000000   \n",
       "50%     5000.50000    43.000000   6888.00000          2.000000   \n",
       "75%     7500.25000    61.000000   6888.00000          3.000000   \n",
       "max    10000.00000    79.000000  68880.00000          4.000000   \n",
       "\n",
       "       CompanionCount  BaggageWeight    FamilySize  \n",
       "count     9850.000000   10000.000000  10000.000000  \n",
       "mean         1.996650      30.008562      4.489800  \n",
       "std          1.417759      11.589531      2.065653  \n",
       "min          0.000000      10.000000      0.000000  \n",
       "25%          1.000000      19.950000      3.000000  \n",
       "50%          2.000000      29.955000      5.000000  \n",
       "75%          3.000000      40.180000      6.000000  \n",
       "max          4.000000      49.990000      9.000000  "
      ]
     },
     "execution_count": 77,
     "metadata": {},
     "output_type": "execute_result"
    }
   ],
   "source": [
    "df.describe()"
   ]
  },
  {
   "cell_type": "code",
   "execution_count": 78,
   "metadata": {},
   "outputs": [
    {
     "data": {
      "text/html": [
       "<div>\n",
       "<style scoped>\n",
       "    .dataframe tbody tr th:only-of-type {\n",
       "        vertical-align: middle;\n",
       "    }\n",
       "\n",
       "    .dataframe tbody tr th {\n",
       "        vertical-align: top;\n",
       "    }\n",
       "\n",
       "    .dataframe thead th {\n",
       "        text-align: right;\n",
       "    }\n",
       "</style>\n",
       "<table border=\"1\" class=\"dataframe\">\n",
       "  <thead>\n",
       "    <tr style=\"text-align: right;\">\n",
       "      <th></th>\n",
       "      <th>count</th>\n",
       "      <th>mean</th>\n",
       "      <th>std</th>\n",
       "      <th>min</th>\n",
       "      <th>25%</th>\n",
       "      <th>50%</th>\n",
       "      <th>75%</th>\n",
       "      <th>max</th>\n",
       "    </tr>\n",
       "  </thead>\n",
       "  <tbody>\n",
       "    <tr>\n",
       "      <th>PassengerID</th>\n",
       "      <td>10000.0</td>\n",
       "      <td>5000.500000</td>\n",
       "      <td>2886.895680</td>\n",
       "      <td>1.0</td>\n",
       "      <td>2500.75</td>\n",
       "      <td>5000.500</td>\n",
       "      <td>7500.25</td>\n",
       "      <td>10000.00</td>\n",
       "    </tr>\n",
       "    <tr>\n",
       "      <th>Age</th>\n",
       "      <td>9797.0</td>\n",
       "      <td>42.171175</td>\n",
       "      <td>21.688927</td>\n",
       "      <td>5.0</td>\n",
       "      <td>23.00</td>\n",
       "      <td>43.000</td>\n",
       "      <td>61.00</td>\n",
       "      <td>79.00</td>\n",
       "    </tr>\n",
       "    <tr>\n",
       "      <th>TicketPrice</th>\n",
       "      <td>10000.0</td>\n",
       "      <td>5301.312000</td>\n",
       "      <td>2601.297740</td>\n",
       "      <td>3588.0</td>\n",
       "      <td>3588.00</td>\n",
       "      <td>6888.000</td>\n",
       "      <td>6888.00</td>\n",
       "      <td>68880.00</td>\n",
       "    </tr>\n",
       "    <tr>\n",
       "      <th>NumberOfChildren</th>\n",
       "      <td>10000.0</td>\n",
       "      <td>1.994100</td>\n",
       "      <td>1.413742</td>\n",
       "      <td>0.0</td>\n",
       "      <td>1.00</td>\n",
       "      <td>2.000</td>\n",
       "      <td>3.00</td>\n",
       "      <td>4.00</td>\n",
       "    </tr>\n",
       "    <tr>\n",
       "      <th>CompanionCount</th>\n",
       "      <td>9850.0</td>\n",
       "      <td>1.996650</td>\n",
       "      <td>1.417759</td>\n",
       "      <td>0.0</td>\n",
       "      <td>1.00</td>\n",
       "      <td>2.000</td>\n",
       "      <td>3.00</td>\n",
       "      <td>4.00</td>\n",
       "    </tr>\n",
       "    <tr>\n",
       "      <th>BaggageWeight</th>\n",
       "      <td>10000.0</td>\n",
       "      <td>30.008562</td>\n",
       "      <td>11.589531</td>\n",
       "      <td>10.0</td>\n",
       "      <td>19.95</td>\n",
       "      <td>29.955</td>\n",
       "      <td>40.18</td>\n",
       "      <td>49.99</td>\n",
       "    </tr>\n",
       "    <tr>\n",
       "      <th>FamilySize</th>\n",
       "      <td>10000.0</td>\n",
       "      <td>4.489800</td>\n",
       "      <td>2.065653</td>\n",
       "      <td>0.0</td>\n",
       "      <td>3.00</td>\n",
       "      <td>5.000</td>\n",
       "      <td>6.00</td>\n",
       "      <td>9.00</td>\n",
       "    </tr>\n",
       "  </tbody>\n",
       "</table>\n",
       "</div>"
      ],
      "text/plain": [
       "                    count         mean          std     min      25%  \\\n",
       "PassengerID       10000.0  5000.500000  2886.895680     1.0  2500.75   \n",
       "Age                9797.0    42.171175    21.688927     5.0    23.00   \n",
       "TicketPrice       10000.0  5301.312000  2601.297740  3588.0  3588.00   \n",
       "NumberOfChildren  10000.0     1.994100     1.413742     0.0     1.00   \n",
       "CompanionCount     9850.0     1.996650     1.417759     0.0     1.00   \n",
       "BaggageWeight     10000.0    30.008562    11.589531    10.0    19.95   \n",
       "FamilySize        10000.0     4.489800     2.065653     0.0     3.00   \n",
       "\n",
       "                       50%      75%       max  \n",
       "PassengerID       5000.500  7500.25  10000.00  \n",
       "Age                 43.000    61.00     79.00  \n",
       "TicketPrice       6888.000  6888.00  68880.00  \n",
       "NumberOfChildren     2.000     3.00      4.00  \n",
       "CompanionCount       2.000     3.00      4.00  \n",
       "BaggageWeight       29.955    40.18     49.99  \n",
       "FamilySize           5.000     6.00      9.00  "
      ]
     },
     "execution_count": 78,
     "metadata": {},
     "output_type": "execute_result"
    }
   ],
   "source": [
    "df.describe().T"
   ]
  },
  {
   "cell_type": "code",
   "execution_count": 79,
   "metadata": {},
   "outputs": [
    {
     "name": "stdout",
     "output_type": "stream",
     "text": [
      "No of Rows : 10000\n",
      "No of Columns : 20\n"
     ]
    }
   ],
   "source": [
    "df.shape\n",
    "# number of rows and columns \n",
    "print(f'No of Rows : {df.shape[0]}\\nNo of Columns : {df.shape[1]}')"
   ]
  },
  {
   "cell_type": "code",
   "execution_count": 80,
   "metadata": {},
   "outputs": [
    {
     "data": {
      "text/plain": [
       "Index(['PassengerID', 'TrainName', 'Name', 'Gender', 'Age', 'Profession',\n",
       "       'Class', 'TicketPrice', 'TrainCar', 'SeatNumber', 'MaritalStatus',\n",
       "       'NumberOfChildren', 'CompanionCount', 'BaggageWeight', 'MealPreference',\n",
       "       'Station', 'ArrivalTime', 'DepartureTime', 'who', 'FamilySize'],\n",
       "      dtype='object')"
      ]
     },
     "execution_count": 80,
     "metadata": {},
     "output_type": "execute_result"
    }
   ],
   "source": [
    "# columns name\n",
    "df.columns"
   ]
  },
  {
   "cell_type": "code",
   "execution_count": 81,
   "metadata": {},
   "outputs": [
    {
     "data": {
      "text/plain": [
       "['PassengerID',\n",
       " 'TrainName',\n",
       " 'Name',\n",
       " 'Gender',\n",
       " 'Age',\n",
       " 'Profession',\n",
       " 'Class',\n",
       " 'TicketPrice',\n",
       " 'TrainCar',\n",
       " 'SeatNumber',\n",
       " 'MaritalStatus',\n",
       " 'NumberOfChildren',\n",
       " 'CompanionCount',\n",
       " 'BaggageWeight',\n",
       " 'MealPreference',\n",
       " 'Station',\n",
       " 'ArrivalTime',\n",
       " 'DepartureTime',\n",
       " 'who',\n",
       " 'FamilySize']"
      ]
     },
     "execution_count": 81,
     "metadata": {},
     "output_type": "execute_result"
    }
   ],
   "source": [
    "df.columns.tolist()"
   ]
  },
  {
   "cell_type": "code",
   "execution_count": 82,
   "metadata": {},
   "outputs": [
    {
     "data": {
      "text/plain": [
       "PassengerID           int64\n",
       "TrainName            object\n",
       "Name                 object\n",
       "Gender               object\n",
       "Age                 float64\n",
       "Profession           object\n",
       "Class                object\n",
       "TicketPrice           int64\n",
       "TrainCar             object\n",
       "SeatNumber           object\n",
       "MaritalStatus        object\n",
       "NumberOfChildren      int64\n",
       "CompanionCount      float64\n",
       "BaggageWeight       float64\n",
       "MealPreference       object\n",
       "Station              object\n",
       "ArrivalTime          object\n",
       "DepartureTime        object\n",
       "who                  object\n",
       "FamilySize            int64\n",
       "dtype: object"
      ]
     },
     "execution_count": 82,
     "metadata": {},
     "output_type": "execute_result"
    }
   ],
   "source": [
    "df.dtypes"
   ]
  },
  {
   "cell_type": "code",
   "execution_count": null,
   "metadata": {},
   "outputs": [
    {
     "data": {
      "text/plain": [
       "PassengerID            int64\n",
       "TrainName             object\n",
       "Name                  object\n",
       "Gender                object\n",
       "Age                  float64\n",
       "Profession          category\n",
       "Class                 object\n",
       "TicketPrice            int64\n",
       "TrainCar              object\n",
       "SeatNumber            object\n",
       "MaritalStatus         object\n",
       "NumberOfChildren       int64\n",
       "CompanionCount       float64\n",
       "BaggageWeight        float64\n",
       "MealPreference      category\n",
       "Station               object\n",
       "ArrivalTime           object\n",
       "DepartureTime         object\n",
       "who                 category\n",
       "FamilySize             int64\n",
       "dtype: object"
      ]
     },
     "execution_count": 83,
     "metadata": {},
     "output_type": "execute_result"
    }
   ],
   "source": [
    "# convert the data into category\n",
    "df[['who','MealPreference','Profession']] = df[['who','MealPreference','Profession']].astype('category')\n",
    "df.dtypes"
   ]
  },
  {
   "cell_type": "code",
   "execution_count": 102,
   "metadata": {},
   "outputs": [
    {
     "data": {
      "text/plain": [
       "Profession\n",
       "Businessperson    1063\n",
       "Teacher           1019\n",
       "Police Officer    1014\n",
       "Farmer            1007\n",
       "Engineer           998\n",
       "Lawyer             995\n",
       "Student            992\n",
       "Doctor             983\n",
       "Soldier            978\n",
       "Artist             951\n",
       "Name: count, dtype: int64"
      ]
     },
     "execution_count": 102,
     "metadata": {},
     "output_type": "execute_result"
    }
   ],
   "source": [
    "df['Profession'].value_counts()"
   ]
  },
  {
   "cell_type": "code",
   "execution_count": null,
   "metadata": {},
   "outputs": [
    {
     "data": {
      "text/plain": [
       "MealPreference\n",
       "Karahi          2067\n",
       "Nihari          2045\n",
       "Daal Chaawal    2030\n",
       "Paratha Roll    1941\n",
       "Biryani         1917\n",
       "Name: count, dtype: int64"
      ]
     },
     "execution_count": 101,
     "metadata": {},
     "output_type": "execute_result"
    }
   ],
   "source": [
    "# \n",
    "df['MealPreference'].value_counts()"
   ]
  },
  {
   "cell_type": "code",
   "execution_count": 86,
   "metadata": {},
   "outputs": [
    {
     "data": {
      "text/plain": [
       "FamilySize\n",
       "5    1807\n",
       "4    1752\n",
       "6    1451\n",
       "3    1383\n",
       "2    1019\n",
       "7     976\n",
       "1     617\n",
       "8     597\n",
       "0     205\n",
       "9     193\n",
       "Name: count, dtype: int64"
      ]
     },
     "execution_count": 86,
     "metadata": {},
     "output_type": "execute_result"
    }
   ],
   "source": [
    "df['FamilySize'].value_counts()"
   ]
  },
  {
   "cell_type": "code",
   "execution_count": null,
   "metadata": {},
   "outputs": [
    {
     "data": {
      "text/plain": [
       "Class\n",
       "Economy        50.93\n",
       "AC Business    49.07\n",
       "Name: count, dtype: float64"
      ]
     },
     "execution_count": 15,
     "metadata": {},
     "output_type": "execute_result"
    }
   ],
   "source": [
    "df['Class'].value_counts()\n",
    "# Get the percentage and also convert into 2 decimale number\n",
    "round(df['Class'].value_counts()/len(df) *100, 2)"
   ]
  },
  {
   "cell_type": "code",
   "execution_count": null,
   "metadata": {},
   "outputs": [
    {
     "data": {
      "text/plain": [
       "who\n",
       "Male      4151\n",
       "Female    4116\n",
       "Child     1733\n",
       "Name: count, dtype: int64"
      ]
     },
     "execution_count": 16,
     "metadata": {},
     "output_type": "execute_result"
    }
   ],
   "source": [
    "df['who'].value_counts()"
   ]
  },
  {
   "cell_type": "code",
   "execution_count": null,
   "metadata": {},
   "outputs": [
    {
     "data": {
      "text/plain": [
       "who\n",
       "Male      41.51\n",
       "Female    41.16\n",
       "Child     17.33\n",
       "Name: count, dtype: float64"
      ]
     },
     "execution_count": 17,
     "metadata": {},
     "output_type": "execute_result"
    }
   ],
   "source": [
    "df['who'].value_counts()\n",
    "# Get the percentage and also convert into 2 decimale number\n",
    "round(df['who'].value_counts()/len(df) *100, 2)"
   ]
  },
  {
   "cell_type": "code",
   "execution_count": null,
   "metadata": {},
   "outputs": [
    {
     "data": {
      "text/plain": [
       "MealPreference\n",
       "Karahi          20.67\n",
       "Nihari          20.45\n",
       "Daal Chaawal    20.30\n",
       "Paratha Roll    19.41\n",
       "Biryani         19.17\n",
       "Name: count, dtype: float64"
      ]
     },
     "execution_count": 18,
     "metadata": {},
     "output_type": "execute_result"
    }
   ],
   "source": [
    "df['MealPreference'].value_counts()\n",
    "# Get the percentage and also convert into 2 decimale number\n",
    "round(df['MealPreference'].value_counts()/len(df) *100, 2)"
   ]
  },
  {
   "cell_type": "code",
   "execution_count": null,
   "metadata": {},
   "outputs": [
    {
     "name": "stderr",
     "output_type": "stream",
     "text": [
      "C:\\Users\\Hasnain\\AppData\\Local\\Temp\\ipykernel_8900\\2732214794.py:2: FutureWarning: The default of observed=False is deprecated and will be changed to True in a future version of pandas. Pass observed=False to retain current behavior or observed=True to adopt the future default and silence this warning.\n",
      "  round(df.groupby(['Class','who']).size()/len(df)*100, 2).sort_values(ascending=False)\n"
     ]
    },
    {
     "data": {
      "text/plain": [
       "Class        who   \n",
       "Economy      Male      21.21\n",
       "             Female    21.13\n",
       "AC Business  Male      20.30\n",
       "             Female    20.03\n",
       "             Child      8.74\n",
       "Economy      Child      8.59\n",
       "dtype: float64"
      ]
     },
     "execution_count": 19,
     "metadata": {},
     "output_type": "execute_result"
    }
   ],
   "source": [
    "# data using in group by function\n",
    "round(df.groupby(['Class','who']).size()/len(df)*100, 2).sort_values(ascending=False)"
   ]
  },
  {
   "cell_type": "code",
   "execution_count": null,
   "metadata": {},
   "outputs": [
    {
     "data": {
      "text/plain": [
       "count    9797.000000\n",
       "mean       42.171175\n",
       "std        21.688927\n",
       "min         5.000000\n",
       "25%        23.000000\n",
       "50%        43.000000\n",
       "75%        61.000000\n",
       "max        79.000000\n",
       "Name: Age, dtype: float64"
      ]
     },
     "execution_count": 20,
     "metadata": {},
     "output_type": "execute_result"
    }
   ],
   "source": [
    "df['Age'].describe()"
   ]
  },
  {
   "cell_type": "markdown",
   "metadata": {},
   "source": [
    "# Missing values handling"
   ]
  },
  {
   "cell_type": "code",
   "execution_count": null,
   "metadata": {},
   "outputs": [
    {
     "data": {
      "text/html": [
       "<div>\n",
       "<style scoped>\n",
       "    .dataframe tbody tr th:only-of-type {\n",
       "        vertical-align: middle;\n",
       "    }\n",
       "\n",
       "    .dataframe tbody tr th {\n",
       "        vertical-align: top;\n",
       "    }\n",
       "\n",
       "    .dataframe thead th {\n",
       "        text-align: right;\n",
       "    }\n",
       "</style>\n",
       "<table border=\"1\" class=\"dataframe\">\n",
       "  <thead>\n",
       "    <tr style=\"text-align: right;\">\n",
       "      <th></th>\n",
       "      <th>PassengerID</th>\n",
       "      <th>TrainName</th>\n",
       "      <th>Name</th>\n",
       "      <th>Gender</th>\n",
       "      <th>Age</th>\n",
       "      <th>Profession</th>\n",
       "      <th>Class</th>\n",
       "      <th>TicketPrice</th>\n",
       "      <th>TrainCar</th>\n",
       "      <th>SeatNumber</th>\n",
       "      <th>MaritalStatus</th>\n",
       "      <th>NumberOfChildren</th>\n",
       "      <th>CompanionCount</th>\n",
       "      <th>BaggageWeight</th>\n",
       "      <th>MealPreference</th>\n",
       "      <th>Station</th>\n",
       "      <th>ArrivalTime</th>\n",
       "      <th>DepartureTime</th>\n",
       "      <th>who</th>\n",
       "      <th>FamilySize</th>\n",
       "    </tr>\n",
       "  </thead>\n",
       "  <tbody>\n",
       "    <tr>\n",
       "      <th>0</th>\n",
       "      <td>False</td>\n",
       "      <td>False</td>\n",
       "      <td>False</td>\n",
       "      <td>False</td>\n",
       "      <td>False</td>\n",
       "      <td>False</td>\n",
       "      <td>False</td>\n",
       "      <td>False</td>\n",
       "      <td>False</td>\n",
       "      <td>False</td>\n",
       "      <td>False</td>\n",
       "      <td>False</td>\n",
       "      <td>False</td>\n",
       "      <td>False</td>\n",
       "      <td>False</td>\n",
       "      <td>False</td>\n",
       "      <td>False</td>\n",
       "      <td>False</td>\n",
       "      <td>False</td>\n",
       "      <td>False</td>\n",
       "    </tr>\n",
       "    <tr>\n",
       "      <th>1</th>\n",
       "      <td>False</td>\n",
       "      <td>False</td>\n",
       "      <td>False</td>\n",
       "      <td>False</td>\n",
       "      <td>False</td>\n",
       "      <td>False</td>\n",
       "      <td>False</td>\n",
       "      <td>False</td>\n",
       "      <td>False</td>\n",
       "      <td>False</td>\n",
       "      <td>False</td>\n",
       "      <td>False</td>\n",
       "      <td>False</td>\n",
       "      <td>False</td>\n",
       "      <td>False</td>\n",
       "      <td>False</td>\n",
       "      <td>False</td>\n",
       "      <td>False</td>\n",
       "      <td>False</td>\n",
       "      <td>False</td>\n",
       "    </tr>\n",
       "    <tr>\n",
       "      <th>2</th>\n",
       "      <td>False</td>\n",
       "      <td>False</td>\n",
       "      <td>False</td>\n",
       "      <td>False</td>\n",
       "      <td>False</td>\n",
       "      <td>False</td>\n",
       "      <td>False</td>\n",
       "      <td>False</td>\n",
       "      <td>False</td>\n",
       "      <td>False</td>\n",
       "      <td>False</td>\n",
       "      <td>False</td>\n",
       "      <td>False</td>\n",
       "      <td>False</td>\n",
       "      <td>False</td>\n",
       "      <td>False</td>\n",
       "      <td>False</td>\n",
       "      <td>False</td>\n",
       "      <td>False</td>\n",
       "      <td>False</td>\n",
       "    </tr>\n",
       "    <tr>\n",
       "      <th>3</th>\n",
       "      <td>False</td>\n",
       "      <td>False</td>\n",
       "      <td>False</td>\n",
       "      <td>False</td>\n",
       "      <td>False</td>\n",
       "      <td>False</td>\n",
       "      <td>False</td>\n",
       "      <td>False</td>\n",
       "      <td>False</td>\n",
       "      <td>False</td>\n",
       "      <td>False</td>\n",
       "      <td>False</td>\n",
       "      <td>False</td>\n",
       "      <td>False</td>\n",
       "      <td>False</td>\n",
       "      <td>False</td>\n",
       "      <td>False</td>\n",
       "      <td>False</td>\n",
       "      <td>False</td>\n",
       "      <td>False</td>\n",
       "    </tr>\n",
       "    <tr>\n",
       "      <th>4</th>\n",
       "      <td>False</td>\n",
       "      <td>False</td>\n",
       "      <td>False</td>\n",
       "      <td>False</td>\n",
       "      <td>False</td>\n",
       "      <td>False</td>\n",
       "      <td>False</td>\n",
       "      <td>False</td>\n",
       "      <td>False</td>\n",
       "      <td>False</td>\n",
       "      <td>False</td>\n",
       "      <td>False</td>\n",
       "      <td>False</td>\n",
       "      <td>False</td>\n",
       "      <td>False</td>\n",
       "      <td>False</td>\n",
       "      <td>False</td>\n",
       "      <td>False</td>\n",
       "      <td>False</td>\n",
       "      <td>False</td>\n",
       "    </tr>\n",
       "    <tr>\n",
       "      <th>...</th>\n",
       "      <td>...</td>\n",
       "      <td>...</td>\n",
       "      <td>...</td>\n",
       "      <td>...</td>\n",
       "      <td>...</td>\n",
       "      <td>...</td>\n",
       "      <td>...</td>\n",
       "      <td>...</td>\n",
       "      <td>...</td>\n",
       "      <td>...</td>\n",
       "      <td>...</td>\n",
       "      <td>...</td>\n",
       "      <td>...</td>\n",
       "      <td>...</td>\n",
       "      <td>...</td>\n",
       "      <td>...</td>\n",
       "      <td>...</td>\n",
       "      <td>...</td>\n",
       "      <td>...</td>\n",
       "      <td>...</td>\n",
       "    </tr>\n",
       "    <tr>\n",
       "      <th>9995</th>\n",
       "      <td>False</td>\n",
       "      <td>False</td>\n",
       "      <td>False</td>\n",
       "      <td>False</td>\n",
       "      <td>False</td>\n",
       "      <td>False</td>\n",
       "      <td>False</td>\n",
       "      <td>False</td>\n",
       "      <td>False</td>\n",
       "      <td>False</td>\n",
       "      <td>False</td>\n",
       "      <td>False</td>\n",
       "      <td>False</td>\n",
       "      <td>False</td>\n",
       "      <td>False</td>\n",
       "      <td>False</td>\n",
       "      <td>False</td>\n",
       "      <td>False</td>\n",
       "      <td>False</td>\n",
       "      <td>False</td>\n",
       "    </tr>\n",
       "    <tr>\n",
       "      <th>9996</th>\n",
       "      <td>False</td>\n",
       "      <td>False</td>\n",
       "      <td>False</td>\n",
       "      <td>False</td>\n",
       "      <td>False</td>\n",
       "      <td>False</td>\n",
       "      <td>False</td>\n",
       "      <td>False</td>\n",
       "      <td>False</td>\n",
       "      <td>False</td>\n",
       "      <td>False</td>\n",
       "      <td>False</td>\n",
       "      <td>False</td>\n",
       "      <td>False</td>\n",
       "      <td>False</td>\n",
       "      <td>False</td>\n",
       "      <td>False</td>\n",
       "      <td>False</td>\n",
       "      <td>False</td>\n",
       "      <td>False</td>\n",
       "    </tr>\n",
       "    <tr>\n",
       "      <th>9997</th>\n",
       "      <td>False</td>\n",
       "      <td>False</td>\n",
       "      <td>False</td>\n",
       "      <td>False</td>\n",
       "      <td>False</td>\n",
       "      <td>False</td>\n",
       "      <td>False</td>\n",
       "      <td>False</td>\n",
       "      <td>False</td>\n",
       "      <td>False</td>\n",
       "      <td>False</td>\n",
       "      <td>False</td>\n",
       "      <td>False</td>\n",
       "      <td>False</td>\n",
       "      <td>False</td>\n",
       "      <td>False</td>\n",
       "      <td>False</td>\n",
       "      <td>False</td>\n",
       "      <td>False</td>\n",
       "      <td>False</td>\n",
       "    </tr>\n",
       "    <tr>\n",
       "      <th>9998</th>\n",
       "      <td>False</td>\n",
       "      <td>False</td>\n",
       "      <td>False</td>\n",
       "      <td>False</td>\n",
       "      <td>False</td>\n",
       "      <td>False</td>\n",
       "      <td>False</td>\n",
       "      <td>False</td>\n",
       "      <td>False</td>\n",
       "      <td>False</td>\n",
       "      <td>False</td>\n",
       "      <td>False</td>\n",
       "      <td>False</td>\n",
       "      <td>False</td>\n",
       "      <td>False</td>\n",
       "      <td>False</td>\n",
       "      <td>False</td>\n",
       "      <td>False</td>\n",
       "      <td>False</td>\n",
       "      <td>False</td>\n",
       "    </tr>\n",
       "    <tr>\n",
       "      <th>9999</th>\n",
       "      <td>False</td>\n",
       "      <td>False</td>\n",
       "      <td>False</td>\n",
       "      <td>False</td>\n",
       "      <td>False</td>\n",
       "      <td>False</td>\n",
       "      <td>False</td>\n",
       "      <td>False</td>\n",
       "      <td>False</td>\n",
       "      <td>False</td>\n",
       "      <td>False</td>\n",
       "      <td>False</td>\n",
       "      <td>False</td>\n",
       "      <td>False</td>\n",
       "      <td>False</td>\n",
       "      <td>False</td>\n",
       "      <td>False</td>\n",
       "      <td>False</td>\n",
       "      <td>False</td>\n",
       "      <td>False</td>\n",
       "    </tr>\n",
       "  </tbody>\n",
       "</table>\n",
       "<p>10000 rows × 20 columns</p>\n",
       "</div>"
      ],
      "text/plain": [
       "      PassengerID  TrainName   Name  Gender    Age  Profession  Class  \\\n",
       "0           False      False  False   False  False       False  False   \n",
       "1           False      False  False   False  False       False  False   \n",
       "2           False      False  False   False  False       False  False   \n",
       "3           False      False  False   False  False       False  False   \n",
       "4           False      False  False   False  False       False  False   \n",
       "...           ...        ...    ...     ...    ...         ...    ...   \n",
       "9995        False      False  False   False  False       False  False   \n",
       "9996        False      False  False   False  False       False  False   \n",
       "9997        False      False  False   False  False       False  False   \n",
       "9998        False      False  False   False  False       False  False   \n",
       "9999        False      False  False   False  False       False  False   \n",
       "\n",
       "      TicketPrice  TrainCar  SeatNumber  MaritalStatus  NumberOfChildren  \\\n",
       "0           False     False       False          False             False   \n",
       "1           False     False       False          False             False   \n",
       "2           False     False       False          False             False   \n",
       "3           False     False       False          False             False   \n",
       "4           False     False       False          False             False   \n",
       "...           ...       ...         ...            ...               ...   \n",
       "9995        False     False       False          False             False   \n",
       "9996        False     False       False          False             False   \n",
       "9997        False     False       False          False             False   \n",
       "9998        False     False       False          False             False   \n",
       "9999        False     False       False          False             False   \n",
       "\n",
       "      CompanionCount  BaggageWeight  MealPreference  Station  ArrivalTime  \\\n",
       "0              False          False           False    False        False   \n",
       "1              False          False           False    False        False   \n",
       "2              False          False           False    False        False   \n",
       "3              False          False           False    False        False   \n",
       "4              False          False           False    False        False   \n",
       "...              ...            ...             ...      ...          ...   \n",
       "9995           False          False           False    False        False   \n",
       "9996           False          False           False    False        False   \n",
       "9997           False          False           False    False        False   \n",
       "9998           False          False           False    False        False   \n",
       "9999           False          False           False    False        False   \n",
       "\n",
       "      DepartureTime    who  FamilySize  \n",
       "0             False  False       False  \n",
       "1             False  False       False  \n",
       "2             False  False       False  \n",
       "3             False  False       False  \n",
       "4             False  False       False  \n",
       "...             ...    ...         ...  \n",
       "9995          False  False       False  \n",
       "9996          False  False       False  \n",
       "9997          False  False       False  \n",
       "9998          False  False       False  \n",
       "9999          False  False       False  \n",
       "\n",
       "[10000 rows x 20 columns]"
      ]
     },
     "execution_count": 22,
     "metadata": {},
     "output_type": "execute_result"
    }
   ],
   "source": [
    "df.isnull()"
   ]
  },
  {
   "cell_type": "code",
   "execution_count": null,
   "metadata": {},
   "outputs": [
    {
     "data": {
      "text/plain": [
       "PassengerID           0\n",
       "TrainName             0\n",
       "Name                  0\n",
       "Gender                0\n",
       "Age                 203\n",
       "Profession            0\n",
       "Class                 0\n",
       "TicketPrice           0\n",
       "TrainCar              0\n",
       "SeatNumber            0\n",
       "MaritalStatus         0\n",
       "NumberOfChildren      0\n",
       "CompanionCount      150\n",
       "BaggageWeight         0\n",
       "MealPreference        0\n",
       "Station             100\n",
       "ArrivalTime           0\n",
       "DepartureTime         0\n",
       "who                   0\n",
       "FamilySize            0\n",
       "dtype: int64"
      ]
     },
     "execution_count": 23,
     "metadata": {},
     "output_type": "execute_result"
    }
   ],
   "source": [
    "df.isnull().sum()"
   ]
  },
  {
   "cell_type": "code",
   "execution_count": null,
   "metadata": {},
   "outputs": [
    {
     "data": {
      "text/plain": [
       "Age                 2.03\n",
       "CompanionCount      1.50\n",
       "Station             1.00\n",
       "PassengerID         0.00\n",
       "Gender              0.00\n",
       "Name                0.00\n",
       "TrainName           0.00\n",
       "Profession          0.00\n",
       "TrainCar            0.00\n",
       "SeatNumber          0.00\n",
       "Class               0.00\n",
       "TicketPrice         0.00\n",
       "NumberOfChildren    0.00\n",
       "MaritalStatus       0.00\n",
       "BaggageWeight       0.00\n",
       "MealPreference      0.00\n",
       "ArrivalTime         0.00\n",
       "DepartureTime       0.00\n",
       "who                 0.00\n",
       "FamilySize          0.00\n",
       "dtype: float64"
      ]
     },
     "execution_count": 24,
     "metadata": {},
     "output_type": "execute_result"
    }
   ],
   "source": [
    "round(df.isnull().sum()/len(df)*100, 2).sort_values(ascending=False)"
   ]
  },
  {
   "cell_type": "code",
   "execution_count": null,
   "metadata": {},
   "outputs": [
    {
     "data": {
      "text/plain": [
       "np.float64(43.0)"
      ]
     },
     "execution_count": 25,
     "metadata": {},
     "output_type": "execute_result"
    }
   ],
   "source": [
    "df['Age'].median()"
   ]
  },
  {
   "cell_type": "code",
   "execution_count": null,
   "metadata": {},
   "outputs": [
    {
     "data": {
      "text/plain": [
       "np.float64(42.17117484944371)"
      ]
     },
     "execution_count": 26,
     "metadata": {},
     "output_type": "execute_result"
    }
   ],
   "source": [
    "df['Age'].mean()"
   ]
  },
  {
   "cell_type": "code",
   "execution_count": null,
   "metadata": {},
   "outputs": [],
   "source": [
    "df['Age'].fillna(df['Age'].median(), inplace=True)"
   ]
  },
  {
   "cell_type": "code",
   "execution_count": null,
   "metadata": {},
   "outputs": [
    {
     "data": {
      "text/plain": [
       "PassengerID           0\n",
       "TrainName             0\n",
       "Name                  0\n",
       "Gender                0\n",
       "Age                   0\n",
       "Profession            0\n",
       "Class                 0\n",
       "TicketPrice           0\n",
       "TrainCar              0\n",
       "SeatNumber            0\n",
       "MaritalStatus         0\n",
       "NumberOfChildren      0\n",
       "CompanionCount      150\n",
       "BaggageWeight         0\n",
       "MealPreference        0\n",
       "Station             100\n",
       "ArrivalTime           0\n",
       "DepartureTime         0\n",
       "who                   0\n",
       "FamilySize            0\n",
       "dtype: int64"
      ]
     },
     "execution_count": 28,
     "metadata": {},
     "output_type": "execute_result"
    }
   ],
   "source": [
    "df.isnull().sum()"
   ]
  },
  {
   "cell_type": "code",
   "execution_count": null,
   "metadata": {},
   "outputs": [
    {
     "data": {
      "text/plain": [
       "np.float64(2.0)"
      ]
     },
     "execution_count": 38,
     "metadata": {},
     "output_type": "execute_result"
    }
   ],
   "source": [
    "df['CompanionCount'].median()"
   ]
  },
  {
   "cell_type": "code",
   "execution_count": null,
   "metadata": {},
   "outputs": [
    {
     "data": {
      "text/plain": [
       "0    1.0\n",
       "Name: CompanionCount, dtype: float64"
      ]
     },
     "execution_count": 30,
     "metadata": {},
     "output_type": "execute_result"
    }
   ],
   "source": [
    "df['CompanionCount'].mode()"
   ]
  },
  {
   "cell_type": "code",
   "execution_count": null,
   "metadata": {},
   "outputs": [
    {
     "name": "stderr",
     "output_type": "stream",
     "text": [
      "C:\\Users\\Hasnain\\AppData\\Local\\Temp\\ipykernel_8900\\3181435947.py:1: FutureWarning: A value is trying to be set on a copy of a DataFrame or Series through chained assignment using an inplace method.\n",
      "The behavior will change in pandas 3.0. This inplace method will never work because the intermediate object on which we are setting values always behaves as a copy.\n",
      "\n",
      "For example, when doing 'df[col].method(value, inplace=True)', try using 'df.method({col: value}, inplace=True)' or df[col] = df[col].method(value) instead, to perform the operation inplace on the original object.\n",
      "\n",
      "\n",
      "  df['CompanionCount'].fillna(df['CompanionCount'].median(), inplace=True)\n"
     ]
    }
   ],
   "source": [
    "df['CompanionCount'].fillna(df['CompanionCount'].median(), inplace=True)"
   ]
  },
  {
   "cell_type": "code",
   "execution_count": null,
   "metadata": {},
   "outputs": [],
   "source": [
    "df.fillna({'CompanionCount': 2}, inplace=True)"
   ]
  },
  {
   "cell_type": "code",
   "execution_count": null,
   "metadata": {},
   "outputs": [
    {
     "data": {
      "text/plain": [
       "PassengerID           0\n",
       "TrainName             0\n",
       "Name                  0\n",
       "Gender                0\n",
       "Age                   0\n",
       "Profession            0\n",
       "Class                 0\n",
       "TicketPrice           0\n",
       "TrainCar              0\n",
       "SeatNumber            0\n",
       "MaritalStatus         0\n",
       "NumberOfChildren      0\n",
       "CompanionCount        0\n",
       "BaggageWeight         0\n",
       "MealPreference        0\n",
       "Station             100\n",
       "ArrivalTime           0\n",
       "DepartureTime         0\n",
       "who                   0\n",
       "FamilySize            0\n",
       "dtype: int64"
      ]
     },
     "execution_count": 37,
     "metadata": {},
     "output_type": "execute_result"
    }
   ],
   "source": [
    "df.isnull().sum()"
   ]
  },
  {
   "cell_type": "code",
   "execution_count": null,
   "metadata": {},
   "outputs": [
    {
     "data": {
      "text/plain": [
       "Station\n",
       "Gagoo                256\n",
       "Rahim Yar Khan       246\n",
       "Haveli Wasawewala    246\n",
       "Mahrabpur            246\n",
       "Kot Lakhpat          244\n",
       "Mailsi               242\n",
       "Basirpur             240\n",
       "Hyderabad Jn         238\n",
       "Padidan              236\n",
       "Landhi Jn.           235\n",
       "Mir Pur Mathelo      232\n",
       "Mandi Ahmadabad      230\n",
       "Khudian              230\n",
       "Ghotki               229\n",
       "Raiwind Jn.          229\n",
       "Karore Pakka         225\n",
       "Nawabshah Jn.        224\n",
       "Pakpattan            223\n",
       "Kasur Jn.            222\n",
       "Rohri Jn.            221\n",
       "Vihari               219\n",
       "Dera Nawab Sahib     219\n",
       "Mandi Burewala       219\n",
       "Sadikabad            218\n",
       "Walton               218\n",
       "Khanpur Jn.          218\n",
       "Machhian Wala        217\n",
       "Lodhran Jn.          216\n",
       "Jamrani Wah          216\n",
       "Liaquatpur           215\n",
       "Bahawalpur           213\n",
       "Nur Shah             213\n",
       "Shahdad Pur          212\n",
       "Tando Adam           211\n",
       "Karachi Cantt        209\n",
       "Kotri Jn.            207\n",
       "Usmanwala            207\n",
       "Lahore Jn.           206\n",
       "Samasata Jn.         203\n",
       "Arif Wala            200\n",
       "Drigh Road           197\n",
       "Kanganpur            193\n",
       "Murad Chishti        190\n",
       "Mubarakpur           188\n",
       "Bhiria Road          182\n",
       "Name: count, dtype: int64"
      ]
     },
     "execution_count": 39,
     "metadata": {},
     "output_type": "execute_result"
    }
   ],
   "source": [
    "df['Station'].value_counts()"
   ]
  },
  {
   "cell_type": "code",
   "execution_count": null,
   "metadata": {},
   "outputs": [],
   "source": [
    "df['Station']=df['Station'].fillna(df['Station'].mode()[0])"
   ]
  },
  {
   "cell_type": "code",
   "execution_count": null,
   "metadata": {},
   "outputs": [
    {
     "data": {
      "text/plain": [
       "PassengerID         0\n",
       "TrainName           0\n",
       "Name                0\n",
       "Gender              0\n",
       "Age                 0\n",
       "Profession          0\n",
       "Class               0\n",
       "TicketPrice         0\n",
       "TrainCar            0\n",
       "SeatNumber          0\n",
       "MaritalStatus       0\n",
       "NumberOfChildren    0\n",
       "CompanionCount      0\n",
       "BaggageWeight       0\n",
       "MealPreference      0\n",
       "Station             0\n",
       "ArrivalTime         0\n",
       "DepartureTime       0\n",
       "who                 0\n",
       "FamilySize          0\n",
       "dtype: int64"
      ]
     },
     "execution_count": 47,
     "metadata": {},
     "output_type": "execute_result"
    }
   ],
   "source": [
    "df.isnull().sum()"
   ]
  },
  {
   "cell_type": "markdown",
   "metadata": {},
   "source": [
    "# Analyzing values in plots"
   ]
  },
  {
   "cell_type": "code",
   "execution_count": 93,
   "metadata": {},
   "outputs": [
    {
     "data": {
      "text/plain": [
       "<Axes: >"
      ]
     },
     "execution_count": 93,
     "metadata": {},
     "output_type": "execute_result"
    },
    {
     "data": {
      "image/png": "[encoded data removed]",
      "text/plain": [
       "<Figure size 640x480 with 1 Axes>"
      ]
     },
     "metadata": {},
     "output_type": "display_data"
    }
   ],
   "source": [
    "df['Age'].value_counts().hist(bins=5)"
   ]
  },
  {
   "cell_type": "code",
   "execution_count": null,
   "metadata": {},
   "outputs": [
    {
     "data": {
      "text/plain": [
       "<Axes: >"
      ]
     },
     "execution_count": 66,
     "metadata": {},
     "output_type": "execute_result"
    },
    {
     "data": {
      "image/png": "[encoded data removed]",
      "text/plain": [
       "<Figure size 640x480 with 1 Axes>"
      ]
     },
     "metadata": {},
     "output_type": "display_data"
    }
   ],
   "source": [
    "df['who'].hist(bins=20)"
   ]
  },
  {
   "cell_type": "code",
   "execution_count": 91,
   "metadata": {},
   "outputs": [
    {
     "data": {
      "text/plain": [
       "<Axes: >"
      ]
     },
     "execution_count": 91,
     "metadata": {},
     "output_type": "execute_result"
    },
    {
     "data": {
      "image/png": "[encoded data removed]",
      "text/plain": [
       "<Figure size 640x480 with 1 Axes>"
      ]
     },
     "metadata": {},
     "output_type": "display_data"
    }
   ],
   "source": [
    "df['Age'].hist(bins=30)"
   ]
  },
  {
   "cell_type": "code",
   "execution_count": 95,
   "metadata": {},
   "outputs": [
    {
     "data": {
      "image/png": "[encoded data removed]",
      "text/plain": [
       "<Figure size 800x500 with 1 Axes>"
      ]
     },
     "metadata": {},
     "output_type": "display_data"
    }
   ],
   "source": [
    "import pandas as pd\n",
    "import matplotlib.pyplot as plt\n",
    "\n",
    "# Load the data\n",
    "# data = pd.read_csv('train_journey_lhr_karachi.csv')\n",
    "\n",
    "# Count passengers by Gender\n",
    "gender_counts = df['Gender'].value_counts()\n",
    "\n",
    "# Create a bar chart\n",
    "plt.figure(figsize=(8, 5))\n",
    "gender_counts.plot(kind='bar', color=['blue', 'pink'])\n",
    "plt.title('Count of Passengers by Gender')\n",
    "plt.xlabel('Gender')\n",
    "plt.ylabel('Number of Passengers')\n",
    "plt.xticks(rotation=0)\n",
    "plt.show()"
   ]
  },
  {
   "cell_type": "code",
   "execution_count": 96,
   "metadata": {},
   "outputs": [
    {
     "data": {
      "image/png": "[encoded data removed]",
      "text/plain": [
       "<Figure size 800x500 with 1 Axes>"
      ]
     },
     "metadata": {},
     "output_type": "display_data"
    }
   ],
   "source": [
    "# Calculate average ticket price by Class\n",
    "avg_ticket_price = df.groupby('Class')['TicketPrice'].mean()\n",
    "\n",
    "# Create a bar chart\n",
    "plt.figure(figsize=(8, 5))\n",
    "avg_ticket_price.plot(kind='bar', color='green')\n",
    "plt.title('Average Ticket Price by Class')\n",
    "plt.xlabel('Class')\n",
    "plt.ylabel('Average Ticket Price')\n",
    "plt.xticks(rotation=0)\n",
    "plt.show()"
   ]
  },
  {
   "cell_type": "code",
   "execution_count": 97,
   "metadata": {},
   "outputs": [
    {
     "data": {
      "image/png": "[encoded data removed]",
      "text/plain": [
       "<Figure size 800x800 with 1 Axes>"
      ]
     },
     "metadata": {},
     "output_type": "display_data"
    }
   ],
   "source": [
    "# Count meal preference\n",
    "meal_counts = df['MealPreference'].value_counts()\n",
    "\n",
    "# Create a pie chart\n",
    "plt.figure(figsize=(8, 8))\n",
    "plt.pie(meal_counts, labels=meal_counts.index, autopct='%1.1f%%', startangle=140)\n",
    "plt.title('Meal Preference Distribution')\n",
    "plt.axis('equal')  # Equal aspect ratio ensures that pie chart is circular.\n",
    "plt.show()"
   ]
  },
  {
   "cell_type": "code",
   "execution_count": 98,
   "metadata": {},
   "outputs": [
    {
     "data": {
      "image/png": "[encoded data removed]",
      "text/plain": [
       "<Figure size 1000x600 with 1 Axes>"
      ]
     },
     "metadata": {},
     "output_type": "display_data"
    }
   ],
   "source": [
    "# Count passengers by Profession\n",
    "profession_counts = df['Profession'].value_counts().nlargest(10)  # Top 10 professions\n",
    "\n",
    "# Create a bar chart\n",
    "plt.figure(figsize=(10, 6))\n",
    "profession_counts.plot(kind='bar', color='orange')\n",
    "plt.title('Top 10 Professions of Passengers')\n",
    "plt.xlabel('Profession')\n",
    "plt.ylabel('Number of Passengers')\n",
    "plt.xticks(rotation=45)\n",
    "plt.show()"
   ]
  },
  {
   "cell_type": "code",
   "execution_count": 99,
   "metadata": {},
   "outputs": [
    {
     "data": {
      "image/png": "[encoded data removed]",
      "text/plain": [
       "<Figure size 800x800 with 1 Axes>"
      ]
     },
     "metadata": {},
     "output_type": "display_data"
    }
   ],
   "source": [
    "# Count marital status\n",
    "marital_counts = df['MaritalStatus'].value_counts()\n",
    "\n",
    "# Create a pie chart\n",
    "plt.figure(figsize=(8, 8))\n",
    "plt.pie(marital_counts, labels=marital_counts.index, autopct='%1.1f%%', startangle=140)\n",
    "plt.title('Distribution of Marital Status')\n",
    "plt.axis('equal')\n",
    "plt.show()"
   ]
  }
 ],
 "metadata": {
  "kernelspec": {
   "display_name": "data_analysis",
   "language": "python",
   "name": "python3"
  },
  "language_info": {
   "codemirror_mode": {
    "name": "ipython",
    "version": 3
   },
   "file_extension": ".py",
   "mimetype": "text/x-python",
   "name": "python",
   "nbconvert_exporter": "python",
   "pygments_lexer": "ipython3",
   "version": "3.13.0"
  }
 },
 "nbformat": 4,
 "nbformat_minor": 2
}
